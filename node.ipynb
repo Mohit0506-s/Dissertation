{
 "cells": [
  {
   "cell_type": "code",
   "execution_count": 4,
   "id": "ff9fde41",
   "metadata": {
    "scrolled": false
   },
   "outputs": [
    {
     "data": {
      "application/vnd.plotly.v1+json": {
       "config": {
        "plotlyServerURL": "https://plot.ly"
       },
       "data": [
        {
         "alignmentgroup": "True",
         "base": [
          "2021-10-21T00:00:00",
          "2021-10-21T06:00:00",
          "2021-10-21T13:00:00",
          "2021-10-21T19:00:00",
          "2021-10-22T02:00:00",
          "2021-10-22T04:00:00",
          "2021-10-22T11:00:00",
          "2021-10-22T18:00:00"
         ],
         "hovertemplate": "Machine=M18<br>Start_Date=%{base}<br>End_Date=%{x}<br>Task=%{y}<extra></extra>",
         "legendgroup": "M18",
         "marker": {
          "color": "#636efa"
         },
         "name": "M18",
         "offsetgroup": "M18",
         "orientation": "h",
         "showlegend": true,
         "textposition": "auto",
         "type": "bar",
         "x": [
          21600000,
          25200000,
          21600000,
          25200000,
          7200000,
          25200000,
          25200000,
          25200000
         ],
         "xaxis": "x",
         "y": [
          "T#27 | A | O/G",
          "T#45 | A | B",
          "T#6 | A | BK",
          "T#19 | A | FG",
          "T#1 | A | FG",
          "T#32 | A | BK",
          "T#40 | A | B",
          "T#14 | A | SG"
         ],
         "yaxis": "y"
        },
        {
         "alignmentgroup": "True",
         "base": [
          "2021-10-21T00:00:00",
          "2021-10-21T08:00:00"
         ],
         "hovertemplate": "Machine=M14<br>Start_Date=%{base}<br>End_Date=%{x}<br>Task=%{y}<extra></extra>",
         "legendgroup": "M14",
         "marker": {
          "color": "#EF553B"
         },
         "name": "M14",
         "offsetgroup": "M14",
         "orientation": "h",
         "showlegend": true,
         "textposition": "auto",
         "type": "bar",
         "x": [
          28800000,
          10800000
         ],
         "xaxis": "x",
         "y": [
          "T#35 | D | MG",
          "T#9 | D | MG"
         ],
         "yaxis": "y"
        },
        {
         "alignmentgroup": "True",
         "base": [
          "2021-10-21T00:00:00",
          "2021-10-21T10:00:00",
          "2021-10-21T20:00:00",
          "2021-10-21T23:00:00",
          "2021-10-22T05:00:00",
          "2021-10-22T14:00:00",
          "2021-10-22T23:00:00",
          "2021-10-23T09:00:00",
          "2021-10-23T18:00:00",
          "2021-10-24T04:00:00",
          "2021-10-24T14:00:00",
          "2021-10-25T00:00:00"
         ],
         "hovertemplate": "Machine=M11<br>Start_Date=%{base}<br>End_Date=%{x}<br>Task=%{y}<extra></extra>",
         "legendgroup": "M11",
         "marker": {
          "color": "#00cc96"
         },
         "name": "M11",
         "offsetgroup": "M11",
         "orientation": "h",
         "showlegend": true,
         "textposition": "auto",
         "type": "bar",
         "x": [
          36000000,
          36000000,
          10800000,
          21600000,
          32400000,
          32400000,
          36000000,
          32400000,
          36000000,
          36000000,
          36000000,
          25200000
         ],
         "xaxis": "x",
         "y": [
          "T#2 | B | SG",
          "T#41 | B | FG",
          "T#5 | B | FG",
          "T#31 | B | FG",
          "T#20 | B | BK",
          "T#46 | B | FG",
          "T#44 | B | R",
          "T#33 | B | PU",
          "T#28 | B | SG",
          "T#18 | B | B",
          "T#15 | B | O/G",
          "T#7 | B | PU"
         ],
         "yaxis": "y"
        },
        {
         "alignmentgroup": "True",
         "base": [
          "2021-10-21T00:00:00",
          "2021-10-21T08:00:00",
          "2021-10-21T16:00:00",
          "2021-10-21T18:00:00",
          "2021-10-22T03:00:00",
          "2021-10-22T09:00:00",
          "2021-10-22T17:00:00",
          "2021-10-23T02:00:00",
          "2021-10-23T06:00:00",
          "2021-10-23T15:00:00"
         ],
         "hovertemplate": "Machine=M12<br>Start_Date=%{base}<br>End_Date=%{x}<br>Task=%{y}<extra></extra>",
         "legendgroup": "M12",
         "marker": {
          "color": "#ab63fa"
         },
         "name": "M12",
         "offsetgroup": "M12",
         "orientation": "h",
         "showlegend": true,
         "textposition": "auto",
         "type": "bar",
         "x": [
          28800000,
          28800000,
          7200000,
          32400000,
          21600000,
          28800000,
          32400000,
          14400000,
          32400000,
          28800000
         ],
         "xaxis": "x",
         "y": [
          "T#34 | C | PR",
          "T#30 | C | B",
          "T#4 | C | B",
          "T#29 | C | R",
          "T#8 | C | PR",
          "T#21 | C | PU",
          "T#3 | C | R",
          "T#17 | C | R",
          "T#42 | C | O/G",
          "T#47 | C | BK"
         ],
         "yaxis": "y"
        },
        {
         "alignmentgroup": "True",
         "base": [
          "2021-10-21T00:00:00",
          "2021-10-21T08:00:00"
         ],
         "hovertemplate": "Machine=M10<br>Start_Date=%{base}<br>End_Date=%{x}<br>Task=%{y}<extra></extra>",
         "legendgroup": "M10",
         "marker": {
          "color": "#FFA15A"
         },
         "name": "M10",
         "offsetgroup": "M10",
         "orientation": "h",
         "showlegend": true,
         "textposition": "auto",
         "type": "bar",
         "x": [
          28800000,
          14400000
         ],
         "xaxis": "x",
         "y": [
          "T#16 | C | SG",
          "T#43 | C | SG"
         ],
         "yaxis": "y"
        },
        {
         "alignmentgroup": "True",
         "base": [
          "2021-10-21T00:00:00",
          "2021-10-21T09:00:00"
         ],
         "hovertemplate": "Machine=M20<br>Start_Date=%{base}<br>End_Date=%{x}<br>Task=%{y}<extra></extra>",
         "legendgroup": "M20",
         "marker": {
          "color": "#19d3f3"
         },
         "name": "M20",
         "offsetgroup": "M20",
         "orientation": "h",
         "showlegend": true,
         "textposition": "auto",
         "type": "bar",
         "x": [
          32400000,
          32400000
         ],
         "xaxis": "x",
         "y": [
          "T#48 | D | PU",
          "T#22 | D | PR"
         ],
         "yaxis": "y"
        },
        {
         "alignmentgroup": "True",
         "base": [
          "2021-10-21T00:00:00",
          "2021-10-21T08:00:00",
          "2021-10-21T15:00:00",
          "2021-10-22T00:00:00",
          "2021-10-22T02:00:00",
          "2021-10-22T09:00:00"
         ],
         "hovertemplate": "Machine=M19<br>Start_Date=%{base}<br>End_Date=%{x}<br>Task=%{y}<extra></extra>",
         "legendgroup": "M19",
         "marker": {
          "color": "#FF6692"
         },
         "name": "M19",
         "offsetgroup": "M19",
         "orientation": "h",
         "showlegend": true,
         "textposition": "auto",
         "type": "bar",
         "x": [
          28800000,
          25200000,
          32400000,
          7200000,
          25200000,
          25200000
         ],
         "xaxis": "x",
         "y": [
          "T#10 | E | MR",
          "T#23 | E | MG",
          "T#12 | E | FG",
          "T#25 | E | FG",
          "T#49 | E | PR",
          "T#36 | E | MR"
         ],
         "yaxis": "y"
        },
        {
         "alignmentgroup": "True",
         "base": [
          "2021-10-21T00:00:00",
          "2021-10-21T10:00:00",
          "2021-10-21T20:00:00",
          "2021-10-22T03:00:00",
          "2021-10-22T06:00:00",
          "2021-10-22T12:00:00"
         ],
         "hovertemplate": "Machine=M16<br>Start_Date=%{base}<br>End_Date=%{x}<br>Task=%{y}<extra></extra>",
         "legendgroup": "M16",
         "marker": {
          "color": "#B6E880"
         },
         "name": "M16",
         "offsetgroup": "M16",
         "orientation": "h",
         "showlegend": true,
         "textposition": "auto",
         "type": "bar",
         "x": [
          36000000,
          36000000,
          25200000,
          10800000,
          21600000,
          25200000
         ],
         "xaxis": "x",
         "y": [
          "T#37 | F | O/G",
          "T#24 | F | MR",
          "T#13 | F | FG",
          "T#26 | F | FG",
          "T#11 | F | FG",
          "T#39 | F | R"
         ],
         "yaxis": "y"
        },
        {
         "alignmentgroup": "True",
         "base": [
          "2021-10-21T00:00:00"
         ],
         "hovertemplate": "Machine=M15<br>Start_Date=%{base}<br>End_Date=%{x}<br>Task=%{y}<extra></extra>",
         "legendgroup": "M15",
         "marker": {
          "color": "#FF97FF"
         },
         "name": "M15",
         "offsetgroup": "M15",
         "orientation": "h",
         "showlegend": true,
         "textposition": "auto",
         "type": "bar",
         "x": [
          25200000
         ],
         "xaxis": "x",
         "y": [
          "T#38 | E | SG"
         ],
         "yaxis": "y"
        }
       ],
       "layout": {
        "barmode": "overlay",
        "legend": {
         "title": {
          "text": "Machine"
         },
         "tracegroupgap": 0
        },
        "margin": {
         "t": 60
        },
        "template": {
         "data": {
          "bar": [
           {
            "error_x": {
             "color": "#2a3f5f"
            },
            "error_y": {
             "color": "#2a3f5f"
            },
            "marker": {
             "line": {
              "color": "#E5ECF6",
              "width": 0.5
             },
             "pattern": {
              "fillmode": "overlay",
              "size": 10,
              "solidity": 0.2
             }
            },
            "type": "bar"
           }
          ],
          "barpolar": [
           {
            "marker": {
             "line": {
              "color": "#E5ECF6",
              "width": 0.5
             },
             "pattern": {
              "fillmode": "overlay",
              "size": 10,
              "solidity": 0.2
             }
            },
            "type": "barpolar"
           }
          ],
          "carpet": [
           {
            "aaxis": {
             "endlinecolor": "#2a3f5f",
             "gridcolor": "white",
             "linecolor": "white",
             "minorgridcolor": "white",
             "startlinecolor": "#2a3f5f"
            },
            "baxis": {
             "endlinecolor": "#2a3f5f",
             "gridcolor": "white",
             "linecolor": "white",
             "minorgridcolor": "white",
             "startlinecolor": "#2a3f5f"
            },
            "type": "carpet"
           }
          ],
          "choropleth": [
           {
            "colorbar": {
             "outlinewidth": 0,
             "ticks": ""
            },
            "type": "choropleth"
           }
          ],
          "contour": [
           {
            "colorbar": {
             "outlinewidth": 0,
             "ticks": ""
            },
            "colorscale": [
             [
              0,
              "#0d0887"
             ],
             [
              0.1111111111111111,
              "#46039f"
             ],
             [
              0.2222222222222222,
              "#7201a8"
             ],
             [
              0.3333333333333333,
              "#9c179e"
             ],
             [
              0.4444444444444444,
              "#bd3786"
             ],
             [
              0.5555555555555556,
              "#d8576b"
             ],
             [
              0.6666666666666666,
              "#ed7953"
             ],
             [
              0.7777777777777778,
              "#fb9f3a"
             ],
             [
              0.8888888888888888,
              "#fdca26"
             ],
             [
              1,
              "#f0f921"
             ]
            ],
            "type": "contour"
           }
          ],
          "contourcarpet": [
           {
            "colorbar": {
             "outlinewidth": 0,
             "ticks": ""
            },
            "type": "contourcarpet"
           }
          ],
          "heatmap": [
           {
            "colorbar": {
             "outlinewidth": 0,
             "ticks": ""
            },
            "colorscale": [
             [
              0,
              "#0d0887"
             ],
             [
              0.1111111111111111,
              "#46039f"
             ],
             [
              0.2222222222222222,
              "#7201a8"
             ],
             [
              0.3333333333333333,
              "#9c179e"
             ],
             [
              0.4444444444444444,
              "#bd3786"
             ],
             [
              0.5555555555555556,
              "#d8576b"
             ],
             [
              0.6666666666666666,
              "#ed7953"
             ],
             [
              0.7777777777777778,
              "#fb9f3a"
             ],
             [
              0.8888888888888888,
              "#fdca26"
             ],
             [
              1,
              "#f0f921"
             ]
            ],
            "type": "heatmap"
           }
          ],
          "heatmapgl": [
           {
            "colorbar": {
             "outlinewidth": 0,
             "ticks": ""
            },
            "colorscale": [
             [
              0,
              "#0d0887"
             ],
             [
              0.1111111111111111,
              "#46039f"
             ],
             [
              0.2222222222222222,
              "#7201a8"
             ],
             [
              0.3333333333333333,
              "#9c179e"
             ],
             [
              0.4444444444444444,
              "#bd3786"
             ],
             [
              0.5555555555555556,
              "#d8576b"
             ],
             [
              0.6666666666666666,
              "#ed7953"
             ],
             [
              0.7777777777777778,
              "#fb9f3a"
             ],
             [
              0.8888888888888888,
              "#fdca26"
             ],
             [
              1,
              "#f0f921"
             ]
            ],
            "type": "heatmapgl"
           }
          ],
          "histogram": [
           {
            "marker": {
             "pattern": {
              "fillmode": "overlay",
              "size": 10,
              "solidity": 0.2
             }
            },
            "type": "histogram"
           }
          ],
          "histogram2d": [
           {
            "colorbar": {
             "outlinewidth": 0,
             "ticks": ""
            },
            "colorscale": [
             [
              0,
              "#0d0887"
             ],
             [
              0.1111111111111111,
              "#46039f"
             ],
             [
              0.2222222222222222,
              "#7201a8"
             ],
             [
              0.3333333333333333,
              "#9c179e"
             ],
             [
              0.4444444444444444,
              "#bd3786"
             ],
             [
              0.5555555555555556,
              "#d8576b"
             ],
             [
              0.6666666666666666,
              "#ed7953"
             ],
             [
              0.7777777777777778,
              "#fb9f3a"
             ],
             [
              0.8888888888888888,
              "#fdca26"
             ],
             [
              1,
              "#f0f921"
             ]
            ],
            "type": "histogram2d"
           }
          ],
          "histogram2dcontour": [
           {
            "colorbar": {
             "outlinewidth": 0,
             "ticks": ""
            },
            "colorscale": [
             [
              0,
              "#0d0887"
             ],
             [
              0.1111111111111111,
              "#46039f"
             ],
             [
              0.2222222222222222,
              "#7201a8"
             ],
             [
              0.3333333333333333,
              "#9c179e"
             ],
             [
              0.4444444444444444,
              "#bd3786"
             ],
             [
              0.5555555555555556,
              "#d8576b"
             ],
             [
              0.6666666666666666,
              "#ed7953"
             ],
             [
              0.7777777777777778,
              "#fb9f3a"
             ],
             [
              0.8888888888888888,
              "#fdca26"
             ],
             [
              1,
              "#f0f921"
             ]
            ],
            "type": "histogram2dcontour"
           }
          ],
          "mesh3d": [
           {
            "colorbar": {
             "outlinewidth": 0,
             "ticks": ""
            },
            "type": "mesh3d"
           }
          ],
          "parcoords": [
           {
            "line": {
             "colorbar": {
              "outlinewidth": 0,
              "ticks": ""
             }
            },
            "type": "parcoords"
           }
          ],
          "pie": [
           {
            "automargin": true,
            "type": "pie"
           }
          ],
          "scatter": [
           {
            "marker": {
             "colorbar": {
              "outlinewidth": 0,
              "ticks": ""
             }
            },
            "type": "scatter"
           }
          ],
          "scatter3d": [
           {
            "line": {
             "colorbar": {
              "outlinewidth": 0,
              "ticks": ""
             }
            },
            "marker": {
             "colorbar": {
              "outlinewidth": 0,
              "ticks": ""
             }
            },
            "type": "scatter3d"
           }
          ],
          "scattercarpet": [
           {
            "marker": {
             "colorbar": {
              "outlinewidth": 0,
              "ticks": ""
             }
            },
            "type": "scattercarpet"
           }
          ],
          "scattergeo": [
           {
            "marker": {
             "colorbar": {
              "outlinewidth": 0,
              "ticks": ""
             }
            },
            "type": "scattergeo"
           }
          ],
          "scattergl": [
           {
            "marker": {
             "colorbar": {
              "outlinewidth": 0,
              "ticks": ""
             }
            },
            "type": "scattergl"
           }
          ],
          "scattermapbox": [
           {
            "marker": {
             "colorbar": {
              "outlinewidth": 0,
              "ticks": ""
             }
            },
            "type": "scattermapbox"
           }
          ],
          "scatterpolar": [
           {
            "marker": {
             "colorbar": {
              "outlinewidth": 0,
              "ticks": ""
             }
            },
            "type": "scatterpolar"
           }
          ],
          "scatterpolargl": [
           {
            "marker": {
             "colorbar": {
              "outlinewidth": 0,
              "ticks": ""
             }
            },
            "type": "scatterpolargl"
           }
          ],
          "scatterternary": [
           {
            "marker": {
             "colorbar": {
              "outlinewidth": 0,
              "ticks": ""
             }
            },
            "type": "scatterternary"
           }
          ],
          "surface": [
           {
            "colorbar": {
             "outlinewidth": 0,
             "ticks": ""
            },
            "colorscale": [
             [
              0,
              "#0d0887"
             ],
             [
              0.1111111111111111,
              "#46039f"
             ],
             [
              0.2222222222222222,
              "#7201a8"
             ],
             [
              0.3333333333333333,
              "#9c179e"
             ],
             [
              0.4444444444444444,
              "#bd3786"
             ],
             [
              0.5555555555555556,
              "#d8576b"
             ],
             [
              0.6666666666666666,
              "#ed7953"
             ],
             [
              0.7777777777777778,
              "#fb9f3a"
             ],
             [
              0.8888888888888888,
              "#fdca26"
             ],
             [
              1,
              "#f0f921"
             ]
            ],
            "type": "surface"
           }
          ],
          "table": [
           {
            "cells": {
             "fill": {
              "color": "#EBF0F8"
             },
             "line": {
              "color": "white"
             }
            },
            "header": {
             "fill": {
              "color": "#C8D4E3"
             },
             "line": {
              "color": "white"
             }
            },
            "type": "table"
           }
          ]
         },
         "layout": {
          "annotationdefaults": {
           "arrowcolor": "#2a3f5f",
           "arrowhead": 0,
           "arrowwidth": 1
          },
          "autotypenumbers": "strict",
          "coloraxis": {
           "colorbar": {
            "outlinewidth": 0,
            "ticks": ""
           }
          },
          "colorscale": {
           "diverging": [
            [
             0,
             "#8e0152"
            ],
            [
             0.1,
             "#c51b7d"
            ],
            [
             0.2,
             "#de77ae"
            ],
            [
             0.3,
             "#f1b6da"
            ],
            [
             0.4,
             "#fde0ef"
            ],
            [
             0.5,
             "#f7f7f7"
            ],
            [
             0.6,
             "#e6f5d0"
            ],
            [
             0.7,
             "#b8e186"
            ],
            [
             0.8,
             "#7fbc41"
            ],
            [
             0.9,
             "#4d9221"
            ],
            [
             1,
             "#276419"
            ]
           ],
           "sequential": [
            [
             0,
             "#0d0887"
            ],
            [
             0.1111111111111111,
             "#46039f"
            ],
            [
             0.2222222222222222,
             "#7201a8"
            ],
            [
             0.3333333333333333,
             "#9c179e"
            ],
            [
             0.4444444444444444,
             "#bd3786"
            ],
            [
             0.5555555555555556,
             "#d8576b"
            ],
            [
             0.6666666666666666,
             "#ed7953"
            ],
            [
             0.7777777777777778,
             "#fb9f3a"
            ],
            [
             0.8888888888888888,
             "#fdca26"
            ],
            [
             1,
             "#f0f921"
            ]
           ],
           "sequentialminus": [
            [
             0,
             "#0d0887"
            ],
            [
             0.1111111111111111,
             "#46039f"
            ],
            [
             0.2222222222222222,
             "#7201a8"
            ],
            [
             0.3333333333333333,
             "#9c179e"
            ],
            [
             0.4444444444444444,
             "#bd3786"
            ],
            [
             0.5555555555555556,
             "#d8576b"
            ],
            [
             0.6666666666666666,
             "#ed7953"
            ],
            [
             0.7777777777777778,
             "#fb9f3a"
            ],
            [
             0.8888888888888888,
             "#fdca26"
            ],
            [
             1,
             "#f0f921"
            ]
           ]
          },
          "colorway": [
           "#636efa",
           "#EF553B",
           "#00cc96",
           "#ab63fa",
           "#FFA15A",
           "#19d3f3",
           "#FF6692",
           "#B6E880",
           "#FF97FF",
           "#FECB52"
          ],
          "font": {
           "color": "#2a3f5f"
          },
          "geo": {
           "bgcolor": "white",
           "lakecolor": "white",
           "landcolor": "#E5ECF6",
           "showlakes": true,
           "showland": true,
           "subunitcolor": "white"
          },
          "hoverlabel": {
           "align": "left"
          },
          "hovermode": "closest",
          "mapbox": {
           "style": "light"
          },
          "paper_bgcolor": "white",
          "plot_bgcolor": "#E5ECF6",
          "polar": {
           "angularaxis": {
            "gridcolor": "white",
            "linecolor": "white",
            "ticks": ""
           },
           "bgcolor": "#E5ECF6",
           "radialaxis": {
            "gridcolor": "white",
            "linecolor": "white",
            "ticks": ""
           }
          },
          "scene": {
           "xaxis": {
            "backgroundcolor": "#E5ECF6",
            "gridcolor": "white",
            "gridwidth": 2,
            "linecolor": "white",
            "showbackground": true,
            "ticks": "",
            "zerolinecolor": "white"
           },
           "yaxis": {
            "backgroundcolor": "#E5ECF6",
            "gridcolor": "white",
            "gridwidth": 2,
            "linecolor": "white",
            "showbackground": true,
            "ticks": "",
            "zerolinecolor": "white"
           },
           "zaxis": {
            "backgroundcolor": "#E5ECF6",
            "gridcolor": "white",
            "gridwidth": 2,
            "linecolor": "white",
            "showbackground": true,
            "ticks": "",
            "zerolinecolor": "white"
           }
          },
          "shapedefaults": {
           "line": {
            "color": "#2a3f5f"
           }
          },
          "ternary": {
           "aaxis": {
            "gridcolor": "white",
            "linecolor": "white",
            "ticks": ""
           },
           "baxis": {
            "gridcolor": "white",
            "linecolor": "white",
            "ticks": ""
           },
           "bgcolor": "#E5ECF6",
           "caxis": {
            "gridcolor": "white",
            "linecolor": "white",
            "ticks": ""
           }
          },
          "title": {
           "x": 0.05
          },
          "xaxis": {
           "automargin": true,
           "gridcolor": "white",
           "linecolor": "white",
           "ticks": "",
           "title": {
            "standoff": 15
           },
           "zerolinecolor": "white",
           "zerolinewidth": 2
          },
          "yaxis": {
           "automargin": true,
           "gridcolor": "white",
           "linecolor": "white",
           "ticks": "",
           "title": {
            "standoff": 15
           },
           "zerolinecolor": "white",
           "zerolinewidth": 2
          }
         }
        },
        "xaxis": {
         "anchor": "y",
         "domain": [
          0,
          1
         ],
         "type": "date"
        },
        "yaxis": {
         "anchor": "x",
         "autorange": "reversed",
         "domain": [
          0,
          1
         ],
         "title": {
          "text": "Task"
         }
        }
       }
      },
      "text/html": [
       "<div>                            <div id=\"259beaa0-150b-4bd5-9831-278535a17633\" class=\"plotly-graph-div\" style=\"height:525px; width:100%;\"></div>            <script type=\"text/javascript\">                require([\"plotly\"], function(Plotly) {                    window.PLOTLYENV=window.PLOTLYENV || {};                                    if (document.getElementById(\"259beaa0-150b-4bd5-9831-278535a17633\")) {                    Plotly.newPlot(                        \"259beaa0-150b-4bd5-9831-278535a17633\",                        [{\"alignmentgroup\":\"True\",\"base\":[\"2021-10-21T00:00:00\",\"2021-10-21T06:00:00\",\"2021-10-21T13:00:00\",\"2021-10-21T19:00:00\",\"2021-10-22T02:00:00\",\"2021-10-22T04:00:00\",\"2021-10-22T11:00:00\",\"2021-10-22T18:00:00\"],\"hovertemplate\":\"Machine=M18<br>Start_Date=%{base}<br>End_Date=%{x}<br>Task=%{y}<extra></extra>\",\"legendgroup\":\"M18\",\"marker\":{\"color\":\"#636efa\"},\"name\":\"M18\",\"offsetgroup\":\"M18\",\"orientation\":\"h\",\"showlegend\":true,\"textposition\":\"auto\",\"type\":\"bar\",\"x\":[21600000.0,25200000.0,21600000.0,25200000.0,7200000.0,25200000.0,25200000.0,25200000.0],\"xaxis\":\"x\",\"y\":[\"T#27 | A | O/G\",\"T#45 | A | B\",\"T#6 | A | BK\",\"T#19 | A | FG\",\"T#1 | A | FG\",\"T#32 | A | BK\",\"T#40 | A | B\",\"T#14 | A | SG\"],\"yaxis\":\"y\"},{\"alignmentgroup\":\"True\",\"base\":[\"2021-10-21T00:00:00\",\"2021-10-21T08:00:00\"],\"hovertemplate\":\"Machine=M14<br>Start_Date=%{base}<br>End_Date=%{x}<br>Task=%{y}<extra></extra>\",\"legendgroup\":\"M14\",\"marker\":{\"color\":\"#EF553B\"},\"name\":\"M14\",\"offsetgroup\":\"M14\",\"orientation\":\"h\",\"showlegend\":true,\"textposition\":\"auto\",\"type\":\"bar\",\"x\":[28800000.0,10800000.0],\"xaxis\":\"x\",\"y\":[\"T#35 | D | MG\",\"T#9 | D | MG\"],\"yaxis\":\"y\"},{\"alignmentgroup\":\"True\",\"base\":[\"2021-10-21T00:00:00\",\"2021-10-21T10:00:00\",\"2021-10-21T20:00:00\",\"2021-10-21T23:00:00\",\"2021-10-22T05:00:00\",\"2021-10-22T14:00:00\",\"2021-10-22T23:00:00\",\"2021-10-23T09:00:00\",\"2021-10-23T18:00:00\",\"2021-10-24T04:00:00\",\"2021-10-24T14:00:00\",\"2021-10-25T00:00:00\"],\"hovertemplate\":\"Machine=M11<br>Start_Date=%{base}<br>End_Date=%{x}<br>Task=%{y}<extra></extra>\",\"legendgroup\":\"M11\",\"marker\":{\"color\":\"#00cc96\"},\"name\":\"M11\",\"offsetgroup\":\"M11\",\"orientation\":\"h\",\"showlegend\":true,\"textposition\":\"auto\",\"type\":\"bar\",\"x\":[36000000.0,36000000.0,10800000.0,21600000.0,32400000.0,32400000.0,36000000.0,32400000.0,36000000.0,36000000.0,36000000.0,25200000.0],\"xaxis\":\"x\",\"y\":[\"T#2 | B | SG\",\"T#41 | B | FG\",\"T#5 | B | FG\",\"T#31 | B | FG\",\"T#20 | B | BK\",\"T#46 | B | FG\",\"T#44 | B | R\",\"T#33 | B | PU\",\"T#28 | B | SG\",\"T#18 | B | B\",\"T#15 | B | O/G\",\"T#7 | B | PU\"],\"yaxis\":\"y\"},{\"alignmentgroup\":\"True\",\"base\":[\"2021-10-21T00:00:00\",\"2021-10-21T08:00:00\",\"2021-10-21T16:00:00\",\"2021-10-21T18:00:00\",\"2021-10-22T03:00:00\",\"2021-10-22T09:00:00\",\"2021-10-22T17:00:00\",\"2021-10-23T02:00:00\",\"2021-10-23T06:00:00\",\"2021-10-23T15:00:00\"],\"hovertemplate\":\"Machine=M12<br>Start_Date=%{base}<br>End_Date=%{x}<br>Task=%{y}<extra></extra>\",\"legendgroup\":\"M12\",\"marker\":{\"color\":\"#ab63fa\"},\"name\":\"M12\",\"offsetgroup\":\"M12\",\"orientation\":\"h\",\"showlegend\":true,\"textposition\":\"auto\",\"type\":\"bar\",\"x\":[28800000.0,28800000.0,7200000.0,32400000.0,21600000.0,28800000.0,32400000.0,14400000.0,32400000.0,28800000.0],\"xaxis\":\"x\",\"y\":[\"T#34 | C | PR\",\"T#30 | C | B\",\"T#4 | C | B\",\"T#29 | C | R\",\"T#8 | C | PR\",\"T#21 | C | PU\",\"T#3 | C | R\",\"T#17 | C | R\",\"T#42 | C | O/G\",\"T#47 | C | BK\"],\"yaxis\":\"y\"},{\"alignmentgroup\":\"True\",\"base\":[\"2021-10-21T00:00:00\",\"2021-10-21T08:00:00\"],\"hovertemplate\":\"Machine=M10<br>Start_Date=%{base}<br>End_Date=%{x}<br>Task=%{y}<extra></extra>\",\"legendgroup\":\"M10\",\"marker\":{\"color\":\"#FFA15A\"},\"name\":\"M10\",\"offsetgroup\":\"M10\",\"orientation\":\"h\",\"showlegend\":true,\"textposition\":\"auto\",\"type\":\"bar\",\"x\":[28800000.0,14400000.0],\"xaxis\":\"x\",\"y\":[\"T#16 | C | SG\",\"T#43 | C | SG\"],\"yaxis\":\"y\"},{\"alignmentgroup\":\"True\",\"base\":[\"2021-10-21T00:00:00\",\"2021-10-21T09:00:00\"],\"hovertemplate\":\"Machine=M20<br>Start_Date=%{base}<br>End_Date=%{x}<br>Task=%{y}<extra></extra>\",\"legendgroup\":\"M20\",\"marker\":{\"color\":\"#19d3f3\"},\"name\":\"M20\",\"offsetgroup\":\"M20\",\"orientation\":\"h\",\"showlegend\":true,\"textposition\":\"auto\",\"type\":\"bar\",\"x\":[32400000.0,32400000.0],\"xaxis\":\"x\",\"y\":[\"T#48 | D | PU\",\"T#22 | D | PR\"],\"yaxis\":\"y\"},{\"alignmentgroup\":\"True\",\"base\":[\"2021-10-21T00:00:00\",\"2021-10-21T08:00:00\",\"2021-10-21T15:00:00\",\"2021-10-22T00:00:00\",\"2021-10-22T02:00:00\",\"2021-10-22T09:00:00\"],\"hovertemplate\":\"Machine=M19<br>Start_Date=%{base}<br>End_Date=%{x}<br>Task=%{y}<extra></extra>\",\"legendgroup\":\"M19\",\"marker\":{\"color\":\"#FF6692\"},\"name\":\"M19\",\"offsetgroup\":\"M19\",\"orientation\":\"h\",\"showlegend\":true,\"textposition\":\"auto\",\"type\":\"bar\",\"x\":[28800000.0,25200000.0,32400000.0,7200000.0,25200000.0,25200000.0],\"xaxis\":\"x\",\"y\":[\"T#10 | E | MR\",\"T#23 | E | MG\",\"T#12 | E | FG\",\"T#25 | E | FG\",\"T#49 | E | PR\",\"T#36 | E | MR\"],\"yaxis\":\"y\"},{\"alignmentgroup\":\"True\",\"base\":[\"2021-10-21T00:00:00\",\"2021-10-21T10:00:00\",\"2021-10-21T20:00:00\",\"2021-10-22T03:00:00\",\"2021-10-22T06:00:00\",\"2021-10-22T12:00:00\"],\"hovertemplate\":\"Machine=M16<br>Start_Date=%{base}<br>End_Date=%{x}<br>Task=%{y}<extra></extra>\",\"legendgroup\":\"M16\",\"marker\":{\"color\":\"#B6E880\"},\"name\":\"M16\",\"offsetgroup\":\"M16\",\"orientation\":\"h\",\"showlegend\":true,\"textposition\":\"auto\",\"type\":\"bar\",\"x\":[36000000.0,36000000.0,25200000.0,10800000.0,21600000.0,25200000.0],\"xaxis\":\"x\",\"y\":[\"T#37 | F | O/G\",\"T#24 | F | MR\",\"T#13 | F | FG\",\"T#26 | F | FG\",\"T#11 | F | FG\",\"T#39 | F | R\"],\"yaxis\":\"y\"},{\"alignmentgroup\":\"True\",\"base\":[\"2021-10-21T00:00:00\"],\"hovertemplate\":\"Machine=M15<br>Start_Date=%{base}<br>End_Date=%{x}<br>Task=%{y}<extra></extra>\",\"legendgroup\":\"M15\",\"marker\":{\"color\":\"#FF97FF\"},\"name\":\"M15\",\"offsetgroup\":\"M15\",\"orientation\":\"h\",\"showlegend\":true,\"textposition\":\"auto\",\"type\":\"bar\",\"x\":[25200000.0],\"xaxis\":\"x\",\"y\":[\"T#38 | E | SG\"],\"yaxis\":\"y\"}],                        {\"barmode\":\"overlay\",\"legend\":{\"title\":{\"text\":\"Machine\"},\"tracegroupgap\":0},\"margin\":{\"t\":60},\"template\":{\"data\":{\"bar\":[{\"error_x\":{\"color\":\"#2a3f5f\"},\"error_y\":{\"color\":\"#2a3f5f\"},\"marker\":{\"line\":{\"color\":\"#E5ECF6\",\"width\":0.5},\"pattern\":{\"fillmode\":\"overlay\",\"size\":10,\"solidity\":0.2}},\"type\":\"bar\"}],\"barpolar\":[{\"marker\":{\"line\":{\"color\":\"#E5ECF6\",\"width\":0.5},\"pattern\":{\"fillmode\":\"overlay\",\"size\":10,\"solidity\":0.2}},\"type\":\"barpolar\"}],\"carpet\":[{\"aaxis\":{\"endlinecolor\":\"#2a3f5f\",\"gridcolor\":\"white\",\"linecolor\":\"white\",\"minorgridcolor\":\"white\",\"startlinecolor\":\"#2a3f5f\"},\"baxis\":{\"endlinecolor\":\"#2a3f5f\",\"gridcolor\":\"white\",\"linecolor\":\"white\",\"minorgridcolor\":\"white\",\"startlinecolor\":\"#2a3f5f\"},\"type\":\"carpet\"}],\"choropleth\":[{\"colorbar\":{\"outlinewidth\":0,\"ticks\":\"\"},\"type\":\"choropleth\"}],\"contour\":[{\"colorbar\":{\"outlinewidth\":0,\"ticks\":\"\"},\"colorscale\":[[0.0,\"#0d0887\"],[0.1111111111111111,\"#46039f\"],[0.2222222222222222,\"#7201a8\"],[0.3333333333333333,\"#9c179e\"],[0.4444444444444444,\"#bd3786\"],[0.5555555555555556,\"#d8576b\"],[0.6666666666666666,\"#ed7953\"],[0.7777777777777778,\"#fb9f3a\"],[0.8888888888888888,\"#fdca26\"],[1.0,\"#f0f921\"]],\"type\":\"contour\"}],\"contourcarpet\":[{\"colorbar\":{\"outlinewidth\":0,\"ticks\":\"\"},\"type\":\"contourcarpet\"}],\"heatmap\":[{\"colorbar\":{\"outlinewidth\":0,\"ticks\":\"\"},\"colorscale\":[[0.0,\"#0d0887\"],[0.1111111111111111,\"#46039f\"],[0.2222222222222222,\"#7201a8\"],[0.3333333333333333,\"#9c179e\"],[0.4444444444444444,\"#bd3786\"],[0.5555555555555556,\"#d8576b\"],[0.6666666666666666,\"#ed7953\"],[0.7777777777777778,\"#fb9f3a\"],[0.8888888888888888,\"#fdca26\"],[1.0,\"#f0f921\"]],\"type\":\"heatmap\"}],\"heatmapgl\":[{\"colorbar\":{\"outlinewidth\":0,\"ticks\":\"\"},\"colorscale\":[[0.0,\"#0d0887\"],[0.1111111111111111,\"#46039f\"],[0.2222222222222222,\"#7201a8\"],[0.3333333333333333,\"#9c179e\"],[0.4444444444444444,\"#bd3786\"],[0.5555555555555556,\"#d8576b\"],[0.6666666666666666,\"#ed7953\"],[0.7777777777777778,\"#fb9f3a\"],[0.8888888888888888,\"#fdca26\"],[1.0,\"#f0f921\"]],\"type\":\"heatmapgl\"}],\"histogram\":[{\"marker\":{\"pattern\":{\"fillmode\":\"overlay\",\"size\":10,\"solidity\":0.2}},\"type\":\"histogram\"}],\"histogram2d\":[{\"colorbar\":{\"outlinewidth\":0,\"ticks\":\"\"},\"colorscale\":[[0.0,\"#0d0887\"],[0.1111111111111111,\"#46039f\"],[0.2222222222222222,\"#7201a8\"],[0.3333333333333333,\"#9c179e\"],[0.4444444444444444,\"#bd3786\"],[0.5555555555555556,\"#d8576b\"],[0.6666666666666666,\"#ed7953\"],[0.7777777777777778,\"#fb9f3a\"],[0.8888888888888888,\"#fdca26\"],[1.0,\"#f0f921\"]],\"type\":\"histogram2d\"}],\"histogram2dcontour\":[{\"colorbar\":{\"outlinewidth\":0,\"ticks\":\"\"},\"colorscale\":[[0.0,\"#0d0887\"],[0.1111111111111111,\"#46039f\"],[0.2222222222222222,\"#7201a8\"],[0.3333333333333333,\"#9c179e\"],[0.4444444444444444,\"#bd3786\"],[0.5555555555555556,\"#d8576b\"],[0.6666666666666666,\"#ed7953\"],[0.7777777777777778,\"#fb9f3a\"],[0.8888888888888888,\"#fdca26\"],[1.0,\"#f0f921\"]],\"type\":\"histogram2dcontour\"}],\"mesh3d\":[{\"colorbar\":{\"outlinewidth\":0,\"ticks\":\"\"},\"type\":\"mesh3d\"}],\"parcoords\":[{\"line\":{\"colorbar\":{\"outlinewidth\":0,\"ticks\":\"\"}},\"type\":\"parcoords\"}],\"pie\":[{\"automargin\":true,\"type\":\"pie\"}],\"scatter\":[{\"marker\":{\"colorbar\":{\"outlinewidth\":0,\"ticks\":\"\"}},\"type\":\"scatter\"}],\"scatter3d\":[{\"line\":{\"colorbar\":{\"outlinewidth\":0,\"ticks\":\"\"}},\"marker\":{\"colorbar\":{\"outlinewidth\":0,\"ticks\":\"\"}},\"type\":\"scatter3d\"}],\"scattercarpet\":[{\"marker\":{\"colorbar\":{\"outlinewidth\":0,\"ticks\":\"\"}},\"type\":\"scattercarpet\"}],\"scattergeo\":[{\"marker\":{\"colorbar\":{\"outlinewidth\":0,\"ticks\":\"\"}},\"type\":\"scattergeo\"}],\"scattergl\":[{\"marker\":{\"colorbar\":{\"outlinewidth\":0,\"ticks\":\"\"}},\"type\":\"scattergl\"}],\"scattermapbox\":[{\"marker\":{\"colorbar\":{\"outlinewidth\":0,\"ticks\":\"\"}},\"type\":\"scattermapbox\"}],\"scatterpolar\":[{\"marker\":{\"colorbar\":{\"outlinewidth\":0,\"ticks\":\"\"}},\"type\":\"scatterpolar\"}],\"scatterpolargl\":[{\"marker\":{\"colorbar\":{\"outlinewidth\":0,\"ticks\":\"\"}},\"type\":\"scatterpolargl\"}],\"scatterternary\":[{\"marker\":{\"colorbar\":{\"outlinewidth\":0,\"ticks\":\"\"}},\"type\":\"scatterternary\"}],\"surface\":[{\"colorbar\":{\"outlinewidth\":0,\"ticks\":\"\"},\"colorscale\":[[0.0,\"#0d0887\"],[0.1111111111111111,\"#46039f\"],[0.2222222222222222,\"#7201a8\"],[0.3333333333333333,\"#9c179e\"],[0.4444444444444444,\"#bd3786\"],[0.5555555555555556,\"#d8576b\"],[0.6666666666666666,\"#ed7953\"],[0.7777777777777778,\"#fb9f3a\"],[0.8888888888888888,\"#fdca26\"],[1.0,\"#f0f921\"]],\"type\":\"surface\"}],\"table\":[{\"cells\":{\"fill\":{\"color\":\"#EBF0F8\"},\"line\":{\"color\":\"white\"}},\"header\":{\"fill\":{\"color\":\"#C8D4E3\"},\"line\":{\"color\":\"white\"}},\"type\":\"table\"}]},\"layout\":{\"annotationdefaults\":{\"arrowcolor\":\"#2a3f5f\",\"arrowhead\":0,\"arrowwidth\":1},\"autotypenumbers\":\"strict\",\"coloraxis\":{\"colorbar\":{\"outlinewidth\":0,\"ticks\":\"\"}},\"colorscale\":{\"diverging\":[[0,\"#8e0152\"],[0.1,\"#c51b7d\"],[0.2,\"#de77ae\"],[0.3,\"#f1b6da\"],[0.4,\"#fde0ef\"],[0.5,\"#f7f7f7\"],[0.6,\"#e6f5d0\"],[0.7,\"#b8e186\"],[0.8,\"#7fbc41\"],[0.9,\"#4d9221\"],[1,\"#276419\"]],\"sequential\":[[0.0,\"#0d0887\"],[0.1111111111111111,\"#46039f\"],[0.2222222222222222,\"#7201a8\"],[0.3333333333333333,\"#9c179e\"],[0.4444444444444444,\"#bd3786\"],[0.5555555555555556,\"#d8576b\"],[0.6666666666666666,\"#ed7953\"],[0.7777777777777778,\"#fb9f3a\"],[0.8888888888888888,\"#fdca26\"],[1.0,\"#f0f921\"]],\"sequentialminus\":[[0.0,\"#0d0887\"],[0.1111111111111111,\"#46039f\"],[0.2222222222222222,\"#7201a8\"],[0.3333333333333333,\"#9c179e\"],[0.4444444444444444,\"#bd3786\"],[0.5555555555555556,\"#d8576b\"],[0.6666666666666666,\"#ed7953\"],[0.7777777777777778,\"#fb9f3a\"],[0.8888888888888888,\"#fdca26\"],[1.0,\"#f0f921\"]]},\"colorway\":[\"#636efa\",\"#EF553B\",\"#00cc96\",\"#ab63fa\",\"#FFA15A\",\"#19d3f3\",\"#FF6692\",\"#B6E880\",\"#FF97FF\",\"#FECB52\"],\"font\":{\"color\":\"#2a3f5f\"},\"geo\":{\"bgcolor\":\"white\",\"lakecolor\":\"white\",\"landcolor\":\"#E5ECF6\",\"showlakes\":true,\"showland\":true,\"subunitcolor\":\"white\"},\"hoverlabel\":{\"align\":\"left\"},\"hovermode\":\"closest\",\"mapbox\":{\"style\":\"light\"},\"paper_bgcolor\":\"white\",\"plot_bgcolor\":\"#E5ECF6\",\"polar\":{\"angularaxis\":{\"gridcolor\":\"white\",\"linecolor\":\"white\",\"ticks\":\"\"},\"bgcolor\":\"#E5ECF6\",\"radialaxis\":{\"gridcolor\":\"white\",\"linecolor\":\"white\",\"ticks\":\"\"}},\"scene\":{\"xaxis\":{\"backgroundcolor\":\"#E5ECF6\",\"gridcolor\":\"white\",\"gridwidth\":2,\"linecolor\":\"white\",\"showbackground\":true,\"ticks\":\"\",\"zerolinecolor\":\"white\"},\"yaxis\":{\"backgroundcolor\":\"#E5ECF6\",\"gridcolor\":\"white\",\"gridwidth\":2,\"linecolor\":\"white\",\"showbackground\":true,\"ticks\":\"\",\"zerolinecolor\":\"white\"},\"zaxis\":{\"backgroundcolor\":\"#E5ECF6\",\"gridcolor\":\"white\",\"gridwidth\":2,\"linecolor\":\"white\",\"showbackground\":true,\"ticks\":\"\",\"zerolinecolor\":\"white\"}},\"shapedefaults\":{\"line\":{\"color\":\"#2a3f5f\"}},\"ternary\":{\"aaxis\":{\"gridcolor\":\"white\",\"linecolor\":\"white\",\"ticks\":\"\"},\"baxis\":{\"gridcolor\":\"white\",\"linecolor\":\"white\",\"ticks\":\"\"},\"bgcolor\":\"#E5ECF6\",\"caxis\":{\"gridcolor\":\"white\",\"linecolor\":\"white\",\"ticks\":\"\"}},\"title\":{\"x\":0.05},\"xaxis\":{\"automargin\":true,\"gridcolor\":\"white\",\"linecolor\":\"white\",\"ticks\":\"\",\"title\":{\"standoff\":15},\"zerolinecolor\":\"white\",\"zerolinewidth\":2},\"yaxis\":{\"automargin\":true,\"gridcolor\":\"white\",\"linecolor\":\"white\",\"ticks\":\"\",\"title\":{\"standoff\":15},\"zerolinecolor\":\"white\",\"zerolinewidth\":2}}},\"xaxis\":{\"anchor\":\"y\",\"domain\":[0.0,1.0],\"type\":\"date\"},\"yaxis\":{\"anchor\":\"x\",\"autorange\":\"reversed\",\"domain\":[0.0,1.0],\"title\":{\"text\":\"Task\"}}},                        {\"responsive\": true}                    ).then(function(){\n",
       "                            \n",
       "var gd = document.getElementById('259beaa0-150b-4bd5-9831-278535a17633');\n",
       "var x = new MutationObserver(function (mutations, observer) {{\n",
       "        var display = window.getComputedStyle(gd).display;\n",
       "        if (!display || display === 'none') {{\n",
       "            console.log([gd, 'removed!']);\n",
       "            Plotly.purge(gd);\n",
       "            observer.disconnect();\n",
       "        }}\n",
       "}});\n",
       "\n",
       "// Listen for the removal of the full notebook cells\n",
       "var notebookContainer = gd.closest('#notebook-container');\n",
       "if (notebookContainer) {{\n",
       "    x.observe(notebookContainer, {childList: true});\n",
       "}}\n",
       "\n",
       "// Listen for the clearing of the current output cell\n",
       "var outputEl = gd.closest('.output');\n",
       "if (outputEl) {{\n",
       "    x.observe(outputEl, {childList: true});\n",
       "}}\n",
       "\n",
       "                        })                };                });            </script>        </div>"
      ]
     },
     "metadata": {},
     "output_type": "display_data"
    },
    {
     "data": {
      "application/vnd.plotly.v1+json": {
       "config": {
        "plotlyServerURL": "https://plot.ly"
       },
       "data": [
        {
         "alignmentgroup": "True",
         "base": [
          "2021-10-21T00:00:00",
          "2021-10-21T00:00:00",
          "2021-10-21T00:00:00",
          "2021-10-21T00:00:00",
          "2021-10-21T10:00:00",
          "2021-10-21T08:00:00",
          "2021-10-21T00:00:00",
          "2021-10-21T00:00:00",
          "2021-10-21T08:00:00"
         ],
         "hovertemplate": "Production_Late=True<br>Start_Date=%{base}<br>End_Date=%{x}<br>Machine=%{y}<extra></extra>",
         "legendgroup": "True",
         "marker": {
          "color": "rgb(228,26,28)"
         },
         "name": "True",
         "offsetgroup": "True",
         "orientation": "h",
         "showlegend": true,
         "textposition": "auto",
         "type": "bar",
         "x": [
          21600000,
          28800000,
          36000000,
          28800000,
          36000000,
          28800000,
          28800000,
          32400000,
          10800000
         ],
         "xaxis": "x",
         "y": [
          "M18",
          "M14",
          "M11",
          "M12",
          "M11",
          "M12",
          "M10",
          "M20",
          "M14"
         ],
         "yaxis": "y"
        },
        {
         "alignmentgroup": "True",
         "base": [
          "2021-10-21T00:00:00",
          "2021-10-21T20:00:00",
          "2021-10-21T08:00:00",
          "2021-10-21T15:00:00",
          "2021-10-21T00:00:00",
          "2021-10-21T06:00:00",
          "2021-10-22T00:00:00",
          "2021-10-22T02:00:00",
          "2021-10-21T10:00:00",
          "2021-10-21T13:00:00",
          "2021-10-21T23:00:00",
          "2021-10-21T16:00:00",
          "2021-10-22T05:00:00",
          "2021-10-21T18:00:00",
          "2021-10-22T03:00:00",
          "2021-10-22T09:00:00",
          "2021-10-21T00:00:00",
          "2021-10-22T14:00:00",
          "2021-10-22T23:00:00",
          "2021-10-21T19:00:00",
          "2021-10-23T09:00:00",
          "2021-10-22T09:00:00",
          "2021-10-21T20:00:00",
          "2021-10-22T02:00:00",
          "2021-10-23T18:00:00",
          "2021-10-22T17:00:00",
          "2021-10-22T03:00:00",
          "2021-10-23T02:00:00",
          "2021-10-22T04:00:00",
          "2021-10-21T08:00:00",
          "2021-10-22T06:00:00",
          "2021-10-22T11:00:00",
          "2021-10-23T06:00:00",
          "2021-10-24T04:00:00",
          "2021-10-24T14:00:00",
          "2021-10-21T09:00:00",
          "2021-10-25T00:00:00",
          "2021-10-22T18:00:00",
          "2021-10-22T12:00:00",
          "2021-10-23T15:00:00"
         ],
         "hovertemplate": "Production_Late=False<br>Start_Date=%{base}<br>End_Date=%{x}<br>Machine=%{y}<extra></extra>",
         "legendgroup": "False",
         "marker": {
          "color": "rgb(55,126,184)"
         },
         "name": "False",
         "offsetgroup": "False",
         "orientation": "h",
         "showlegend": true,
         "textposition": "auto",
         "type": "bar",
         "x": [
          28800000,
          10800000,
          25200000,
          32400000,
          36000000,
          25200000,
          7200000,
          25200000,
          36000000,
          21600000,
          21600000,
          7200000,
          32400000,
          32400000,
          21600000,
          28800000,
          25200000,
          32400000,
          36000000,
          25200000,
          32400000,
          25200000,
          25200000,
          7200000,
          36000000,
          32400000,
          10800000,
          14400000,
          25200000,
          14400000,
          21600000,
          25200000,
          32400000,
          36000000,
          36000000,
          32400000,
          25200000,
          25200000,
          25200000,
          28800000
         ],
         "xaxis": "x",
         "y": [
          "M19",
          "M11",
          "M19",
          "M19",
          "M16",
          "M18",
          "M19",
          "M19",
          "M16",
          "M18",
          "M11",
          "M12",
          "M11",
          "M12",
          "M12",
          "M12",
          "M15",
          "M11",
          "M11",
          "M18",
          "M11",
          "M19",
          "M16",
          "M18",
          "M11",
          "M12",
          "M16",
          "M12",
          "M18",
          "M10",
          "M16",
          "M18",
          "M12",
          "M11",
          "M11",
          "M20",
          "M11",
          "M18",
          "M16",
          "M12"
         ],
         "yaxis": "y"
        }
       ],
       "layout": {
        "barmode": "overlay",
        "legend": {
         "title": {
          "text": "Production_Late"
         },
         "tracegroupgap": 0
        },
        "margin": {
         "t": 60
        },
        "template": {
         "data": {
          "bar": [
           {
            "error_x": {
             "color": "#2a3f5f"
            },
            "error_y": {
             "color": "#2a3f5f"
            },
            "marker": {
             "line": {
              "color": "#E5ECF6",
              "width": 0.5
             },
             "pattern": {
              "fillmode": "overlay",
              "size": 10,
              "solidity": 0.2
             }
            },
            "type": "bar"
           }
          ],
          "barpolar": [
           {
            "marker": {
             "line": {
              "color": "#E5ECF6",
              "width": 0.5
             },
             "pattern": {
              "fillmode": "overlay",
              "size": 10,
              "solidity": 0.2
             }
            },
            "type": "barpolar"
           }
          ],
          "carpet": [
           {
            "aaxis": {
             "endlinecolor": "#2a3f5f",
             "gridcolor": "white",
             "linecolor": "white",
             "minorgridcolor": "white",
             "startlinecolor": "#2a3f5f"
            },
            "baxis": {
             "endlinecolor": "#2a3f5f",
             "gridcolor": "white",
             "linecolor": "white",
             "minorgridcolor": "white",
             "startlinecolor": "#2a3f5f"
            },
            "type": "carpet"
           }
          ],
          "choropleth": [
           {
            "colorbar": {
             "outlinewidth": 0,
             "ticks": ""
            },
            "type": "choropleth"
           }
          ],
          "contour": [
           {
            "colorbar": {
             "outlinewidth": 0,
             "ticks": ""
            },
            "colorscale": [
             [
              0,
              "#0d0887"
             ],
             [
              0.1111111111111111,
              "#46039f"
             ],
             [
              0.2222222222222222,
              "#7201a8"
             ],
             [
              0.3333333333333333,
              "#9c179e"
             ],
             [
              0.4444444444444444,
              "#bd3786"
             ],
             [
              0.5555555555555556,
              "#d8576b"
             ],
             [
              0.6666666666666666,
              "#ed7953"
             ],
             [
              0.7777777777777778,
              "#fb9f3a"
             ],
             [
              0.8888888888888888,
              "#fdca26"
             ],
             [
              1,
              "#f0f921"
             ]
            ],
            "type": "contour"
           }
          ],
          "contourcarpet": [
           {
            "colorbar": {
             "outlinewidth": 0,
             "ticks": ""
            },
            "type": "contourcarpet"
           }
          ],
          "heatmap": [
           {
            "colorbar": {
             "outlinewidth": 0,
             "ticks": ""
            },
            "colorscale": [
             [
              0,
              "#0d0887"
             ],
             [
              0.1111111111111111,
              "#46039f"
             ],
             [
              0.2222222222222222,
              "#7201a8"
             ],
             [
              0.3333333333333333,
              "#9c179e"
             ],
             [
              0.4444444444444444,
              "#bd3786"
             ],
             [
              0.5555555555555556,
              "#d8576b"
             ],
             [
              0.6666666666666666,
              "#ed7953"
             ],
             [
              0.7777777777777778,
              "#fb9f3a"
             ],
             [
              0.8888888888888888,
              "#fdca26"
             ],
             [
              1,
              "#f0f921"
             ]
            ],
            "type": "heatmap"
           }
          ],
          "heatmapgl": [
           {
            "colorbar": {
             "outlinewidth": 0,
             "ticks": ""
            },
            "colorscale": [
             [
              0,
              "#0d0887"
             ],
             [
              0.1111111111111111,
              "#46039f"
             ],
             [
              0.2222222222222222,
              "#7201a8"
             ],
             [
              0.3333333333333333,
              "#9c179e"
             ],
             [
              0.4444444444444444,
              "#bd3786"
             ],
             [
              0.5555555555555556,
              "#d8576b"
             ],
             [
              0.6666666666666666,
              "#ed7953"
             ],
             [
              0.7777777777777778,
              "#fb9f3a"
             ],
             [
              0.8888888888888888,
              "#fdca26"
             ],
             [
              1,
              "#f0f921"
             ]
            ],
            "type": "heatmapgl"
           }
          ],
          "histogram": [
           {
            "marker": {
             "pattern": {
              "fillmode": "overlay",
              "size": 10,
              "solidity": 0.2
             }
            },
            "type": "histogram"
           }
          ],
          "histogram2d": [
           {
            "colorbar": {
             "outlinewidth": 0,
             "ticks": ""
            },
            "colorscale": [
             [
              0,
              "#0d0887"
             ],
             [
              0.1111111111111111,
              "#46039f"
             ],
             [
              0.2222222222222222,
              "#7201a8"
             ],
             [
              0.3333333333333333,
              "#9c179e"
             ],
             [
              0.4444444444444444,
              "#bd3786"
             ],
             [
              0.5555555555555556,
              "#d8576b"
             ],
             [
              0.6666666666666666,
              "#ed7953"
             ],
             [
              0.7777777777777778,
              "#fb9f3a"
             ],
             [
              0.8888888888888888,
              "#fdca26"
             ],
             [
              1,
              "#f0f921"
             ]
            ],
            "type": "histogram2d"
           }
          ],
          "histogram2dcontour": [
           {
            "colorbar": {
             "outlinewidth": 0,
             "ticks": ""
            },
            "colorscale": [
             [
              0,
              "#0d0887"
             ],
             [
              0.1111111111111111,
              "#46039f"
             ],
             [
              0.2222222222222222,
              "#7201a8"
             ],
             [
              0.3333333333333333,
              "#9c179e"
             ],
             [
              0.4444444444444444,
              "#bd3786"
             ],
             [
              0.5555555555555556,
              "#d8576b"
             ],
             [
              0.6666666666666666,
              "#ed7953"
             ],
             [
              0.7777777777777778,
              "#fb9f3a"
             ],
             [
              0.8888888888888888,
              "#fdca26"
             ],
             [
              1,
              "#f0f921"
             ]
            ],
            "type": "histogram2dcontour"
           }
          ],
          "mesh3d": [
           {
            "colorbar": {
             "outlinewidth": 0,
             "ticks": ""
            },
            "type": "mesh3d"
           }
          ],
          "parcoords": [
           {
            "line": {
             "colorbar": {
              "outlinewidth": 0,
              "ticks": ""
             }
            },
            "type": "parcoords"
           }
          ],
          "pie": [
           {
            "automargin": true,
            "type": "pie"
           }
          ],
          "scatter": [
           {
            "marker": {
             "colorbar": {
              "outlinewidth": 0,
              "ticks": ""
             }
            },
            "type": "scatter"
           }
          ],
          "scatter3d": [
           {
            "line": {
             "colorbar": {
              "outlinewidth": 0,
              "ticks": ""
             }
            },
            "marker": {
             "colorbar": {
              "outlinewidth": 0,
              "ticks": ""
             }
            },
            "type": "scatter3d"
           }
          ],
          "scattercarpet": [
           {
            "marker": {
             "colorbar": {
              "outlinewidth": 0,
              "ticks": ""
             }
            },
            "type": "scattercarpet"
           }
          ],
          "scattergeo": [
           {
            "marker": {
             "colorbar": {
              "outlinewidth": 0,
              "ticks": ""
             }
            },
            "type": "scattergeo"
           }
          ],
          "scattergl": [
           {
            "marker": {
             "colorbar": {
              "outlinewidth": 0,
              "ticks": ""
             }
            },
            "type": "scattergl"
           }
          ],
          "scattermapbox": [
           {
            "marker": {
             "colorbar": {
              "outlinewidth": 0,
              "ticks": ""
             }
            },
            "type": "scattermapbox"
           }
          ],
          "scatterpolar": [
           {
            "marker": {
             "colorbar": {
              "outlinewidth": 0,
              "ticks": ""
             }
            },
            "type": "scatterpolar"
           }
          ],
          "scatterpolargl": [
           {
            "marker": {
             "colorbar": {
              "outlinewidth": 0,
              "ticks": ""
             }
            },
            "type": "scatterpolargl"
           }
          ],
          "scatterternary": [
           {
            "marker": {
             "colorbar": {
              "outlinewidth": 0,
              "ticks": ""
             }
            },
            "type": "scatterternary"
           }
          ],
          "surface": [
           {
            "colorbar": {
             "outlinewidth": 0,
             "ticks": ""
            },
            "colorscale": [
             [
              0,
              "#0d0887"
             ],
             [
              0.1111111111111111,
              "#46039f"
             ],
             [
              0.2222222222222222,
              "#7201a8"
             ],
             [
              0.3333333333333333,
              "#9c179e"
             ],
             [
              0.4444444444444444,
              "#bd3786"
             ],
             [
              0.5555555555555556,
              "#d8576b"
             ],
             [
              0.6666666666666666,
              "#ed7953"
             ],
             [
              0.7777777777777778,
              "#fb9f3a"
             ],
             [
              0.8888888888888888,
              "#fdca26"
             ],
             [
              1,
              "#f0f921"
             ]
            ],
            "type": "surface"
           }
          ],
          "table": [
           {
            "cells": {
             "fill": {
              "color": "#EBF0F8"
             },
             "line": {
              "color": "white"
             }
            },
            "header": {
             "fill": {
              "color": "#C8D4E3"
             },
             "line": {
              "color": "white"
             }
            },
            "type": "table"
           }
          ]
         },
         "layout": {
          "annotationdefaults": {
           "arrowcolor": "#2a3f5f",
           "arrowhead": 0,
           "arrowwidth": 1
          },
          "autotypenumbers": "strict",
          "coloraxis": {
           "colorbar": {
            "outlinewidth": 0,
            "ticks": ""
           }
          },
          "colorscale": {
           "diverging": [
            [
             0,
             "#8e0152"
            ],
            [
             0.1,
             "#c51b7d"
            ],
            [
             0.2,
             "#de77ae"
            ],
            [
             0.3,
             "#f1b6da"
            ],
            [
             0.4,
             "#fde0ef"
            ],
            [
             0.5,
             "#f7f7f7"
            ],
            [
             0.6,
             "#e6f5d0"
            ],
            [
             0.7,
             "#b8e186"
            ],
            [
             0.8,
             "#7fbc41"
            ],
            [
             0.9,
             "#4d9221"
            ],
            [
             1,
             "#276419"
            ]
           ],
           "sequential": [
            [
             0,
             "#0d0887"
            ],
            [
             0.1111111111111111,
             "#46039f"
            ],
            [
             0.2222222222222222,
             "#7201a8"
            ],
            [
             0.3333333333333333,
             "#9c179e"
            ],
            [
             0.4444444444444444,
             "#bd3786"
            ],
            [
             0.5555555555555556,
             "#d8576b"
            ],
            [
             0.6666666666666666,
             "#ed7953"
            ],
            [
             0.7777777777777778,
             "#fb9f3a"
            ],
            [
             0.8888888888888888,
             "#fdca26"
            ],
            [
             1,
             "#f0f921"
            ]
           ],
           "sequentialminus": [
            [
             0,
             "#0d0887"
            ],
            [
             0.1111111111111111,
             "#46039f"
            ],
            [
             0.2222222222222222,
             "#7201a8"
            ],
            [
             0.3333333333333333,
             "#9c179e"
            ],
            [
             0.4444444444444444,
             "#bd3786"
            ],
            [
             0.5555555555555556,
             "#d8576b"
            ],
            [
             0.6666666666666666,
             "#ed7953"
            ],
            [
             0.7777777777777778,
             "#fb9f3a"
            ],
            [
             0.8888888888888888,
             "#fdca26"
            ],
            [
             1,
             "#f0f921"
            ]
           ]
          },
          "colorway": [
           "#636efa",
           "#EF553B",
           "#00cc96",
           "#ab63fa",
           "#FFA15A",
           "#19d3f3",
           "#FF6692",
           "#B6E880",
           "#FF97FF",
           "#FECB52"
          ],
          "font": {
           "color": "#2a3f5f"
          },
          "geo": {
           "bgcolor": "white",
           "lakecolor": "white",
           "landcolor": "#E5ECF6",
           "showlakes": true,
           "showland": true,
           "subunitcolor": "white"
          },
          "hoverlabel": {
           "align": "left"
          },
          "hovermode": "closest",
          "mapbox": {
           "style": "light"
          },
          "paper_bgcolor": "white",
          "plot_bgcolor": "#E5ECF6",
          "polar": {
           "angularaxis": {
            "gridcolor": "white",
            "linecolor": "white",
            "ticks": ""
           },
           "bgcolor": "#E5ECF6",
           "radialaxis": {
            "gridcolor": "white",
            "linecolor": "white",
            "ticks": ""
           }
          },
          "scene": {
           "xaxis": {
            "backgroundcolor": "#E5ECF6",
            "gridcolor": "white",
            "gridwidth": 2,
            "linecolor": "white",
            "showbackground": true,
            "ticks": "",
            "zerolinecolor": "white"
           },
           "yaxis": {
            "backgroundcolor": "#E5ECF6",
            "gridcolor": "white",
            "gridwidth": 2,
            "linecolor": "white",
            "showbackground": true,
            "ticks": "",
            "zerolinecolor": "white"
           },
           "zaxis": {
            "backgroundcolor": "#E5ECF6",
            "gridcolor": "white",
            "gridwidth": 2,
            "linecolor": "white",
            "showbackground": true,
            "ticks": "",
            "zerolinecolor": "white"
           }
          },
          "shapedefaults": {
           "line": {
            "color": "#2a3f5f"
           }
          },
          "ternary": {
           "aaxis": {
            "gridcolor": "white",
            "linecolor": "white",
            "ticks": ""
           },
           "baxis": {
            "gridcolor": "white",
            "linecolor": "white",
            "ticks": ""
           },
           "bgcolor": "#E5ECF6",
           "caxis": {
            "gridcolor": "white",
            "linecolor": "white",
            "ticks": ""
           }
          },
          "title": {
           "x": 0.05
          },
          "xaxis": {
           "automargin": true,
           "gridcolor": "white",
           "linecolor": "white",
           "ticks": "",
           "title": {
            "standoff": 15
           },
           "zerolinecolor": "white",
           "zerolinewidth": 2
          },
          "yaxis": {
           "automargin": true,
           "gridcolor": "white",
           "linecolor": "white",
           "ticks": "",
           "title": {
            "standoff": 15
           },
           "zerolinecolor": "white",
           "zerolinewidth": 2
          }
         }
        },
        "xaxis": {
         "anchor": "y",
         "domain": [
          0,
          1
         ],
         "rangeslider": {
          "visible": true
         },
         "type": "date"
        },
        "yaxis": {
         "anchor": "x",
         "autorange": "reversed",
         "categoryorder": "category ascending",
         "domain": [
          0,
          1
         ],
         "title": {
          "text": "Machine"
         }
        }
       }
      },
      "text/html": [
       "<div>                            <div id=\"f9764338-bf23-42cb-b871-ece5dbca34ae\" class=\"plotly-graph-div\" style=\"height:525px; width:100%;\"></div>            <script type=\"text/javascript\">                require([\"plotly\"], function(Plotly) {                    window.PLOTLYENV=window.PLOTLYENV || {};                                    if (document.getElementById(\"f9764338-bf23-42cb-b871-ece5dbca34ae\")) {                    Plotly.newPlot(                        \"f9764338-bf23-42cb-b871-ece5dbca34ae\",                        [{\"alignmentgroup\":\"True\",\"base\":[\"2021-10-21T00:00:00\",\"2021-10-21T00:00:00\",\"2021-10-21T00:00:00\",\"2021-10-21T00:00:00\",\"2021-10-21T10:00:00\",\"2021-10-21T08:00:00\",\"2021-10-21T00:00:00\",\"2021-10-21T00:00:00\",\"2021-10-21T08:00:00\"],\"hovertemplate\":\"Production_Late=True<br>Start_Date=%{base}<br>End_Date=%{x}<br>Machine=%{y}<extra></extra>\",\"legendgroup\":\"True\",\"marker\":{\"color\":\"rgb(228,26,28)\"},\"name\":\"True\",\"offsetgroup\":\"True\",\"orientation\":\"h\",\"showlegend\":true,\"textposition\":\"auto\",\"type\":\"bar\",\"x\":[21600000.0,28800000.0,36000000.0,28800000.0,36000000.0,28800000.0,28800000.0,32400000.0,10800000.0],\"xaxis\":\"x\",\"y\":[\"M18\",\"M14\",\"M11\",\"M12\",\"M11\",\"M12\",\"M10\",\"M20\",\"M14\"],\"yaxis\":\"y\"},{\"alignmentgroup\":\"True\",\"base\":[\"2021-10-21T00:00:00\",\"2021-10-21T20:00:00\",\"2021-10-21T08:00:00\",\"2021-10-21T15:00:00\",\"2021-10-21T00:00:00\",\"2021-10-21T06:00:00\",\"2021-10-22T00:00:00\",\"2021-10-22T02:00:00\",\"2021-10-21T10:00:00\",\"2021-10-21T13:00:00\",\"2021-10-21T23:00:00\",\"2021-10-21T16:00:00\",\"2021-10-22T05:00:00\",\"2021-10-21T18:00:00\",\"2021-10-22T03:00:00\",\"2021-10-22T09:00:00\",\"2021-10-21T00:00:00\",\"2021-10-22T14:00:00\",\"2021-10-22T23:00:00\",\"2021-10-21T19:00:00\",\"2021-10-23T09:00:00\",\"2021-10-22T09:00:00\",\"2021-10-21T20:00:00\",\"2021-10-22T02:00:00\",\"2021-10-23T18:00:00\",\"2021-10-22T17:00:00\",\"2021-10-22T03:00:00\",\"2021-10-23T02:00:00\",\"2021-10-22T04:00:00\",\"2021-10-21T08:00:00\",\"2021-10-22T06:00:00\",\"2021-10-22T11:00:00\",\"2021-10-23T06:00:00\",\"2021-10-24T04:00:00\",\"2021-10-24T14:00:00\",\"2021-10-21T09:00:00\",\"2021-10-25T00:00:00\",\"2021-10-22T18:00:00\",\"2021-10-22T12:00:00\",\"2021-10-23T15:00:00\"],\"hovertemplate\":\"Production_Late=False<br>Start_Date=%{base}<br>End_Date=%{x}<br>Machine=%{y}<extra></extra>\",\"legendgroup\":\"False\",\"marker\":{\"color\":\"rgb(55,126,184)\"},\"name\":\"False\",\"offsetgroup\":\"False\",\"orientation\":\"h\",\"showlegend\":true,\"textposition\":\"auto\",\"type\":\"bar\",\"x\":[28800000.0,10800000.0,25200000.0,32400000.0,36000000.0,25200000.0,7200000.0,25200000.0,36000000.0,21600000.0,21600000.0,7200000.0,32400000.0,32400000.0,21600000.0,28800000.0,25200000.0,32400000.0,36000000.0,25200000.0,32400000.0,25200000.0,25200000.0,7200000.0,36000000.0,32400000.0,10800000.0,14400000.0,25200000.0,14400000.0,21600000.0,25200000.0,32400000.0,36000000.0,36000000.0,32400000.0,25200000.0,25200000.0,25200000.0,28800000.0],\"xaxis\":\"x\",\"y\":[\"M19\",\"M11\",\"M19\",\"M19\",\"M16\",\"M18\",\"M19\",\"M19\",\"M16\",\"M18\",\"M11\",\"M12\",\"M11\",\"M12\",\"M12\",\"M12\",\"M15\",\"M11\",\"M11\",\"M18\",\"M11\",\"M19\",\"M16\",\"M18\",\"M11\",\"M12\",\"M16\",\"M12\",\"M18\",\"M10\",\"M16\",\"M18\",\"M12\",\"M11\",\"M11\",\"M20\",\"M11\",\"M18\",\"M16\",\"M12\"],\"yaxis\":\"y\"}],                        {\"barmode\":\"overlay\",\"legend\":{\"title\":{\"text\":\"Production_Late\"},\"tracegroupgap\":0},\"margin\":{\"t\":60},\"template\":{\"data\":{\"bar\":[{\"error_x\":{\"color\":\"#2a3f5f\"},\"error_y\":{\"color\":\"#2a3f5f\"},\"marker\":{\"line\":{\"color\":\"#E5ECF6\",\"width\":0.5},\"pattern\":{\"fillmode\":\"overlay\",\"size\":10,\"solidity\":0.2}},\"type\":\"bar\"}],\"barpolar\":[{\"marker\":{\"line\":{\"color\":\"#E5ECF6\",\"width\":0.5},\"pattern\":{\"fillmode\":\"overlay\",\"size\":10,\"solidity\":0.2}},\"type\":\"barpolar\"}],\"carpet\":[{\"aaxis\":{\"endlinecolor\":\"#2a3f5f\",\"gridcolor\":\"white\",\"linecolor\":\"white\",\"minorgridcolor\":\"white\",\"startlinecolor\":\"#2a3f5f\"},\"baxis\":{\"endlinecolor\":\"#2a3f5f\",\"gridcolor\":\"white\",\"linecolor\":\"white\",\"minorgridcolor\":\"white\",\"startlinecolor\":\"#2a3f5f\"},\"type\":\"carpet\"}],\"choropleth\":[{\"colorbar\":{\"outlinewidth\":0,\"ticks\":\"\"},\"type\":\"choropleth\"}],\"contour\":[{\"colorbar\":{\"outlinewidth\":0,\"ticks\":\"\"},\"colorscale\":[[0.0,\"#0d0887\"],[0.1111111111111111,\"#46039f\"],[0.2222222222222222,\"#7201a8\"],[0.3333333333333333,\"#9c179e\"],[0.4444444444444444,\"#bd3786\"],[0.5555555555555556,\"#d8576b\"],[0.6666666666666666,\"#ed7953\"],[0.7777777777777778,\"#fb9f3a\"],[0.8888888888888888,\"#fdca26\"],[1.0,\"#f0f921\"]],\"type\":\"contour\"}],\"contourcarpet\":[{\"colorbar\":{\"outlinewidth\":0,\"ticks\":\"\"},\"type\":\"contourcarpet\"}],\"heatmap\":[{\"colorbar\":{\"outlinewidth\":0,\"ticks\":\"\"},\"colorscale\":[[0.0,\"#0d0887\"],[0.1111111111111111,\"#46039f\"],[0.2222222222222222,\"#7201a8\"],[0.3333333333333333,\"#9c179e\"],[0.4444444444444444,\"#bd3786\"],[0.5555555555555556,\"#d8576b\"],[0.6666666666666666,\"#ed7953\"],[0.7777777777777778,\"#fb9f3a\"],[0.8888888888888888,\"#fdca26\"],[1.0,\"#f0f921\"]],\"type\":\"heatmap\"}],\"heatmapgl\":[{\"colorbar\":{\"outlinewidth\":0,\"ticks\":\"\"},\"colorscale\":[[0.0,\"#0d0887\"],[0.1111111111111111,\"#46039f\"],[0.2222222222222222,\"#7201a8\"],[0.3333333333333333,\"#9c179e\"],[0.4444444444444444,\"#bd3786\"],[0.5555555555555556,\"#d8576b\"],[0.6666666666666666,\"#ed7953\"],[0.7777777777777778,\"#fb9f3a\"],[0.8888888888888888,\"#fdca26\"],[1.0,\"#f0f921\"]],\"type\":\"heatmapgl\"}],\"histogram\":[{\"marker\":{\"pattern\":{\"fillmode\":\"overlay\",\"size\":10,\"solidity\":0.2}},\"type\":\"histogram\"}],\"histogram2d\":[{\"colorbar\":{\"outlinewidth\":0,\"ticks\":\"\"},\"colorscale\":[[0.0,\"#0d0887\"],[0.1111111111111111,\"#46039f\"],[0.2222222222222222,\"#7201a8\"],[0.3333333333333333,\"#9c179e\"],[0.4444444444444444,\"#bd3786\"],[0.5555555555555556,\"#d8576b\"],[0.6666666666666666,\"#ed7953\"],[0.7777777777777778,\"#fb9f3a\"],[0.8888888888888888,\"#fdca26\"],[1.0,\"#f0f921\"]],\"type\":\"histogram2d\"}],\"histogram2dcontour\":[{\"colorbar\":{\"outlinewidth\":0,\"ticks\":\"\"},\"colorscale\":[[0.0,\"#0d0887\"],[0.1111111111111111,\"#46039f\"],[0.2222222222222222,\"#7201a8\"],[0.3333333333333333,\"#9c179e\"],[0.4444444444444444,\"#bd3786\"],[0.5555555555555556,\"#d8576b\"],[0.6666666666666666,\"#ed7953\"],[0.7777777777777778,\"#fb9f3a\"],[0.8888888888888888,\"#fdca26\"],[1.0,\"#f0f921\"]],\"type\":\"histogram2dcontour\"}],\"mesh3d\":[{\"colorbar\":{\"outlinewidth\":0,\"ticks\":\"\"},\"type\":\"mesh3d\"}],\"parcoords\":[{\"line\":{\"colorbar\":{\"outlinewidth\":0,\"ticks\":\"\"}},\"type\":\"parcoords\"}],\"pie\":[{\"automargin\":true,\"type\":\"pie\"}],\"scatter\":[{\"marker\":{\"colorbar\":{\"outlinewidth\":0,\"ticks\":\"\"}},\"type\":\"scatter\"}],\"scatter3d\":[{\"line\":{\"colorbar\":{\"outlinewidth\":0,\"ticks\":\"\"}},\"marker\":{\"colorbar\":{\"outlinewidth\":0,\"ticks\":\"\"}},\"type\":\"scatter3d\"}],\"scattercarpet\":[{\"marker\":{\"colorbar\":{\"outlinewidth\":0,\"ticks\":\"\"}},\"type\":\"scattercarpet\"}],\"scattergeo\":[{\"marker\":{\"colorbar\":{\"outlinewidth\":0,\"ticks\":\"\"}},\"type\":\"scattergeo\"}],\"scattergl\":[{\"marker\":{\"colorbar\":{\"outlinewidth\":0,\"ticks\":\"\"}},\"type\":\"scattergl\"}],\"scattermapbox\":[{\"marker\":{\"colorbar\":{\"outlinewidth\":0,\"ticks\":\"\"}},\"type\":\"scattermapbox\"}],\"scatterpolar\":[{\"marker\":{\"colorbar\":{\"outlinewidth\":0,\"ticks\":\"\"}},\"type\":\"scatterpolar\"}],\"scatterpolargl\":[{\"marker\":{\"colorbar\":{\"outlinewidth\":0,\"ticks\":\"\"}},\"type\":\"scatterpolargl\"}],\"scatterternary\":[{\"marker\":{\"colorbar\":{\"outlinewidth\":0,\"ticks\":\"\"}},\"type\":\"scatterternary\"}],\"surface\":[{\"colorbar\":{\"outlinewidth\":0,\"ticks\":\"\"},\"colorscale\":[[0.0,\"#0d0887\"],[0.1111111111111111,\"#46039f\"],[0.2222222222222222,\"#7201a8\"],[0.3333333333333333,\"#9c179e\"],[0.4444444444444444,\"#bd3786\"],[0.5555555555555556,\"#d8576b\"],[0.6666666666666666,\"#ed7953\"],[0.7777777777777778,\"#fb9f3a\"],[0.8888888888888888,\"#fdca26\"],[1.0,\"#f0f921\"]],\"type\":\"surface\"}],\"table\":[{\"cells\":{\"fill\":{\"color\":\"#EBF0F8\"},\"line\":{\"color\":\"white\"}},\"header\":{\"fill\":{\"color\":\"#C8D4E3\"},\"line\":{\"color\":\"white\"}},\"type\":\"table\"}]},\"layout\":{\"annotationdefaults\":{\"arrowcolor\":\"#2a3f5f\",\"arrowhead\":0,\"arrowwidth\":1},\"autotypenumbers\":\"strict\",\"coloraxis\":{\"colorbar\":{\"outlinewidth\":0,\"ticks\":\"\"}},\"colorscale\":{\"diverging\":[[0,\"#8e0152\"],[0.1,\"#c51b7d\"],[0.2,\"#de77ae\"],[0.3,\"#f1b6da\"],[0.4,\"#fde0ef\"],[0.5,\"#f7f7f7\"],[0.6,\"#e6f5d0\"],[0.7,\"#b8e186\"],[0.8,\"#7fbc41\"],[0.9,\"#4d9221\"],[1,\"#276419\"]],\"sequential\":[[0.0,\"#0d0887\"],[0.1111111111111111,\"#46039f\"],[0.2222222222222222,\"#7201a8\"],[0.3333333333333333,\"#9c179e\"],[0.4444444444444444,\"#bd3786\"],[0.5555555555555556,\"#d8576b\"],[0.6666666666666666,\"#ed7953\"],[0.7777777777777778,\"#fb9f3a\"],[0.8888888888888888,\"#fdca26\"],[1.0,\"#f0f921\"]],\"sequentialminus\":[[0.0,\"#0d0887\"],[0.1111111111111111,\"#46039f\"],[0.2222222222222222,\"#7201a8\"],[0.3333333333333333,\"#9c179e\"],[0.4444444444444444,\"#bd3786\"],[0.5555555555555556,\"#d8576b\"],[0.6666666666666666,\"#ed7953\"],[0.7777777777777778,\"#fb9f3a\"],[0.8888888888888888,\"#fdca26\"],[1.0,\"#f0f921\"]]},\"colorway\":[\"#636efa\",\"#EF553B\",\"#00cc96\",\"#ab63fa\",\"#FFA15A\",\"#19d3f3\",\"#FF6692\",\"#B6E880\",\"#FF97FF\",\"#FECB52\"],\"font\":{\"color\":\"#2a3f5f\"},\"geo\":{\"bgcolor\":\"white\",\"lakecolor\":\"white\",\"landcolor\":\"#E5ECF6\",\"showlakes\":true,\"showland\":true,\"subunitcolor\":\"white\"},\"hoverlabel\":{\"align\":\"left\"},\"hovermode\":\"closest\",\"mapbox\":{\"style\":\"light\"},\"paper_bgcolor\":\"white\",\"plot_bgcolor\":\"#E5ECF6\",\"polar\":{\"angularaxis\":{\"gridcolor\":\"white\",\"linecolor\":\"white\",\"ticks\":\"\"},\"bgcolor\":\"#E5ECF6\",\"radialaxis\":{\"gridcolor\":\"white\",\"linecolor\":\"white\",\"ticks\":\"\"}},\"scene\":{\"xaxis\":{\"backgroundcolor\":\"#E5ECF6\",\"gridcolor\":\"white\",\"gridwidth\":2,\"linecolor\":\"white\",\"showbackground\":true,\"ticks\":\"\",\"zerolinecolor\":\"white\"},\"yaxis\":{\"backgroundcolor\":\"#E5ECF6\",\"gridcolor\":\"white\",\"gridwidth\":2,\"linecolor\":\"white\",\"showbackground\":true,\"ticks\":\"\",\"zerolinecolor\":\"white\"},\"zaxis\":{\"backgroundcolor\":\"#E5ECF6\",\"gridcolor\":\"white\",\"gridwidth\":2,\"linecolor\":\"white\",\"showbackground\":true,\"ticks\":\"\",\"zerolinecolor\":\"white\"}},\"shapedefaults\":{\"line\":{\"color\":\"#2a3f5f\"}},\"ternary\":{\"aaxis\":{\"gridcolor\":\"white\",\"linecolor\":\"white\",\"ticks\":\"\"},\"baxis\":{\"gridcolor\":\"white\",\"linecolor\":\"white\",\"ticks\":\"\"},\"bgcolor\":\"#E5ECF6\",\"caxis\":{\"gridcolor\":\"white\",\"linecolor\":\"white\",\"ticks\":\"\"}},\"title\":{\"x\":0.05},\"xaxis\":{\"automargin\":true,\"gridcolor\":\"white\",\"linecolor\":\"white\",\"ticks\":\"\",\"title\":{\"standoff\":15},\"zerolinecolor\":\"white\",\"zerolinewidth\":2},\"yaxis\":{\"automargin\":true,\"gridcolor\":\"white\",\"linecolor\":\"white\",\"ticks\":\"\",\"title\":{\"standoff\":15},\"zerolinecolor\":\"white\",\"zerolinewidth\":2}}},\"xaxis\":{\"anchor\":\"y\",\"domain\":[0.0,1.0],\"rangeslider\":{\"visible\":true},\"type\":\"date\"},\"yaxis\":{\"anchor\":\"x\",\"autorange\":\"reversed\",\"categoryorder\":\"category ascending\",\"domain\":[0.0,1.0],\"title\":{\"text\":\"Machine\"}}},                        {\"responsive\": true}                    ).then(function(){\n",
       "                            \n",
       "var gd = document.getElementById('f9764338-bf23-42cb-b871-ece5dbca34ae');\n",
       "var x = new MutationObserver(function (mutations, observer) {{\n",
       "        var display = window.getComputedStyle(gd).display;\n",
       "        if (!display || display === 'none') {{\n",
       "            console.log([gd, 'removed!']);\n",
       "            Plotly.purge(gd);\n",
       "            observer.disconnect();\n",
       "        }}\n",
       "}});\n",
       "\n",
       "// Listen for the removal of the full notebook cells\n",
       "var notebookContainer = gd.closest('#notebook-container');\n",
       "if (notebookContainer) {{\n",
       "    x.observe(notebookContainer, {childList: true});\n",
       "}}\n",
       "\n",
       "// Listen for the clearing of the current output cell\n",
       "var outputEl = gd.closest('.output');\n",
       "if (outputEl) {{\n",
       "    x.observe(outputEl, {childList: true});\n",
       "}}\n",
       "\n",
       "                        })                };                });            </script>        </div>"
      ]
     },
     "metadata": {},
     "output_type": "display_data"
    },
    {
     "data": {
      "application/vnd.plotly.v1+json": {
       "config": {
        "plotlyServerURL": "https://plot.ly"
       },
       "data": [
        {
         "alignmentgroup": "True",
         "base": [
          "2021-10-21T00:00:00"
         ],
         "hovertemplate": "Task=T#27 | A | O/G<br>Start_Date=%{base}<br>End_Date=%{x}<br>Machine=%{y}<extra></extra>",
         "legendgroup": "T#27 | A | O/G",
         "marker": {
          "color": "#636efa"
         },
         "name": "T#27 | A | O/G",
         "offsetgroup": "T#27 | A | O/G",
         "orientation": "h",
         "showlegend": true,
         "textposition": "auto",
         "type": "bar",
         "x": [
          21600000
         ],
         "xaxis": "x",
         "y": [
          "M18"
         ],
         "yaxis": "y"
        },
        {
         "alignmentgroup": "True",
         "base": [
          "2021-10-21T00:00:00"
         ],
         "hovertemplate": "Task=T#35 | D | MG<br>Start_Date=%{base}<br>End_Date=%{x}<br>Machine=%{y}<extra></extra>",
         "legendgroup": "T#35 | D | MG",
         "marker": {
          "color": "#EF553B"
         },
         "name": "T#35 | D | MG",
         "offsetgroup": "T#35 | D | MG",
         "orientation": "h",
         "showlegend": true,
         "textposition": "auto",
         "type": "bar",
         "x": [
          28800000
         ],
         "xaxis": "x",
         "y": [
          "M14"
         ],
         "yaxis": "y"
        },
        {
         "alignmentgroup": "True",
         "base": [
          "2021-10-21T00:00:00"
         ],
         "hovertemplate": "Task=T#2 | B | SG<br>Start_Date=%{base}<br>End_Date=%{x}<br>Machine=%{y}<extra></extra>",
         "legendgroup": "T#2 | B | SG",
         "marker": {
          "color": "#00cc96"
         },
         "name": "T#2 | B | SG",
         "offsetgroup": "T#2 | B | SG",
         "orientation": "h",
         "showlegend": true,
         "textposition": "auto",
         "type": "bar",
         "x": [
          36000000
         ],
         "xaxis": "x",
         "y": [
          "M11"
         ],
         "yaxis": "y"
        },
        {
         "alignmentgroup": "True",
         "base": [
          "2021-10-21T00:00:00"
         ],
         "hovertemplate": "Task=T#34 | C | PR<br>Start_Date=%{base}<br>End_Date=%{x}<br>Machine=%{y}<extra></extra>",
         "legendgroup": "T#34 | C | PR",
         "marker": {
          "color": "#ab63fa"
         },
         "name": "T#34 | C | PR",
         "offsetgroup": "T#34 | C | PR",
         "orientation": "h",
         "showlegend": true,
         "textposition": "auto",
         "type": "bar",
         "x": [
          28800000
         ],
         "xaxis": "x",
         "y": [
          "M12"
         ],
         "yaxis": "y"
        },
        {
         "alignmentgroup": "True",
         "base": [
          "2021-10-21T10:00:00"
         ],
         "hovertemplate": "Task=T#41 | B | FG<br>Start_Date=%{base}<br>End_Date=%{x}<br>Machine=%{y}<extra></extra>",
         "legendgroup": "T#41 | B | FG",
         "marker": {
          "color": "#FFA15A"
         },
         "name": "T#41 | B | FG",
         "offsetgroup": "T#41 | B | FG",
         "orientation": "h",
         "showlegend": true,
         "textposition": "auto",
         "type": "bar",
         "x": [
          36000000
         ],
         "xaxis": "x",
         "y": [
          "M11"
         ],
         "yaxis": "y"
        },
        {
         "alignmentgroup": "True",
         "base": [
          "2021-10-21T08:00:00"
         ],
         "hovertemplate": "Task=T#30 | C | B<br>Start_Date=%{base}<br>End_Date=%{x}<br>Machine=%{y}<extra></extra>",
         "legendgroup": "T#30 | C | B",
         "marker": {
          "color": "#19d3f3"
         },
         "name": "T#30 | C | B",
         "offsetgroup": "T#30 | C | B",
         "orientation": "h",
         "showlegend": true,
         "textposition": "auto",
         "type": "bar",
         "x": [
          28800000
         ],
         "xaxis": "x",
         "y": [
          "M12"
         ],
         "yaxis": "y"
        },
        {
         "alignmentgroup": "True",
         "base": [
          "2021-10-21T00:00:00"
         ],
         "hovertemplate": "Task=T#16 | C | SG<br>Start_Date=%{base}<br>End_Date=%{x}<br>Machine=%{y}<extra></extra>",
         "legendgroup": "T#16 | C | SG",
         "marker": {
          "color": "#FF6692"
         },
         "name": "T#16 | C | SG",
         "offsetgroup": "T#16 | C | SG",
         "orientation": "h",
         "showlegend": true,
         "textposition": "auto",
         "type": "bar",
         "x": [
          28800000
         ],
         "xaxis": "x",
         "y": [
          "M10"
         ],
         "yaxis": "y"
        },
        {
         "alignmentgroup": "True",
         "base": [
          "2021-10-21T00:00:00"
         ],
         "hovertemplate": "Task=T#48 | D | PU<br>Start_Date=%{base}<br>End_Date=%{x}<br>Machine=%{y}<extra></extra>",
         "legendgroup": "T#48 | D | PU",
         "marker": {
          "color": "#B6E880"
         },
         "name": "T#48 | D | PU",
         "offsetgroup": "T#48 | D | PU",
         "orientation": "h",
         "showlegend": true,
         "textposition": "auto",
         "type": "bar",
         "x": [
          32400000
         ],
         "xaxis": "x",
         "y": [
          "M20"
         ],
         "yaxis": "y"
        },
        {
         "alignmentgroup": "True",
         "base": [
          "2021-10-21T08:00:00"
         ],
         "hovertemplate": "Task=T#9 | D | MG<br>Start_Date=%{base}<br>End_Date=%{x}<br>Machine=%{y}<extra></extra>",
         "legendgroup": "T#9 | D | MG",
         "marker": {
          "color": "#FF97FF"
         },
         "name": "T#9 | D | MG",
         "offsetgroup": "T#9 | D | MG",
         "orientation": "h",
         "showlegend": true,
         "textposition": "auto",
         "type": "bar",
         "x": [
          10800000
         ],
         "xaxis": "x",
         "y": [
          "M14"
         ],
         "yaxis": "y"
        },
        {
         "alignmentgroup": "True",
         "base": [
          "2021-10-21T00:00:00"
         ],
         "hovertemplate": "Task=T#10 | E | MR<br>Start_Date=%{base}<br>End_Date=%{x}<br>Machine=%{y}<extra></extra>",
         "legendgroup": "T#10 | E | MR",
         "marker": {
          "color": "#FECB52"
         },
         "name": "T#10 | E | MR",
         "offsetgroup": "T#10 | E | MR",
         "orientation": "h",
         "showlegend": true,
         "textposition": "auto",
         "type": "bar",
         "x": [
          28800000
         ],
         "xaxis": "x",
         "y": [
          "M19"
         ],
         "yaxis": "y"
        },
        {
         "alignmentgroup": "True",
         "base": [
          "2021-10-21T20:00:00"
         ],
         "hovertemplate": "Task=T#5 | B | FG<br>Start_Date=%{base}<br>End_Date=%{x}<br>Machine=%{y}<extra></extra>",
         "legendgroup": "T#5 | B | FG",
         "marker": {
          "color": "#636efa"
         },
         "name": "T#5 | B | FG",
         "offsetgroup": "T#5 | B | FG",
         "orientation": "h",
         "showlegend": true,
         "textposition": "auto",
         "type": "bar",
         "x": [
          10800000
         ],
         "xaxis": "x",
         "y": [
          "M11"
         ],
         "yaxis": "y"
        },
        {
         "alignmentgroup": "True",
         "base": [
          "2021-10-21T08:00:00"
         ],
         "hovertemplate": "Task=T#23 | E | MG<br>Start_Date=%{base}<br>End_Date=%{x}<br>Machine=%{y}<extra></extra>",
         "legendgroup": "T#23 | E | MG",
         "marker": {
          "color": "#EF553B"
         },
         "name": "T#23 | E | MG",
         "offsetgroup": "T#23 | E | MG",
         "orientation": "h",
         "showlegend": true,
         "textposition": "auto",
         "type": "bar",
         "x": [
          25200000
         ],
         "xaxis": "x",
         "y": [
          "M19"
         ],
         "yaxis": "y"
        },
        {
         "alignmentgroup": "True",
         "base": [
          "2021-10-21T15:00:00"
         ],
         "hovertemplate": "Task=T#12 | E | FG<br>Start_Date=%{base}<br>End_Date=%{x}<br>Machine=%{y}<extra></extra>",
         "legendgroup": "T#12 | E | FG",
         "marker": {
          "color": "#00cc96"
         },
         "name": "T#12 | E | FG",
         "offsetgroup": "T#12 | E | FG",
         "orientation": "h",
         "showlegend": true,
         "textposition": "auto",
         "type": "bar",
         "x": [
          32400000
         ],
         "xaxis": "x",
         "y": [
          "M19"
         ],
         "yaxis": "y"
        },
        {
         "alignmentgroup": "True",
         "base": [
          "2021-10-21T00:00:00"
         ],
         "hovertemplate": "Task=T#37 | F | O/G<br>Start_Date=%{base}<br>End_Date=%{x}<br>Machine=%{y}<extra></extra>",
         "legendgroup": "T#37 | F | O/G",
         "marker": {
          "color": "#ab63fa"
         },
         "name": "T#37 | F | O/G",
         "offsetgroup": "T#37 | F | O/G",
         "orientation": "h",
         "showlegend": true,
         "textposition": "auto",
         "type": "bar",
         "x": [
          36000000
         ],
         "xaxis": "x",
         "y": [
          "M16"
         ],
         "yaxis": "y"
        },
        {
         "alignmentgroup": "True",
         "base": [
          "2021-10-21T06:00:00"
         ],
         "hovertemplate": "Task=T#45 | A | B<br>Start_Date=%{base}<br>End_Date=%{x}<br>Machine=%{y}<extra></extra>",
         "legendgroup": "T#45 | A | B",
         "marker": {
          "color": "#FFA15A"
         },
         "name": "T#45 | A | B",
         "offsetgroup": "T#45 | A | B",
         "orientation": "h",
         "showlegend": true,
         "textposition": "auto",
         "type": "bar",
         "x": [
          25200000
         ],
         "xaxis": "x",
         "y": [
          "M18"
         ],
         "yaxis": "y"
        },
        {
         "alignmentgroup": "True",
         "base": [
          "2021-10-22T00:00:00"
         ],
         "hovertemplate": "Task=T#25 | E | FG<br>Start_Date=%{base}<br>End_Date=%{x}<br>Machine=%{y}<extra></extra>",
         "legendgroup": "T#25 | E | FG",
         "marker": {
          "color": "#19d3f3"
         },
         "name": "T#25 | E | FG",
         "offsetgroup": "T#25 | E | FG",
         "orientation": "h",
         "showlegend": true,
         "textposition": "auto",
         "type": "bar",
         "x": [
          7200000
         ],
         "xaxis": "x",
         "y": [
          "M19"
         ],
         "yaxis": "y"
        },
        {
         "alignmentgroup": "True",
         "base": [
          "2021-10-22T02:00:00"
         ],
         "hovertemplate": "Task=T#49 | E | PR<br>Start_Date=%{base}<br>End_Date=%{x}<br>Machine=%{y}<extra></extra>",
         "legendgroup": "T#49 | E | PR",
         "marker": {
          "color": "#FF6692"
         },
         "name": "T#49 | E | PR",
         "offsetgroup": "T#49 | E | PR",
         "orientation": "h",
         "showlegend": true,
         "textposition": "auto",
         "type": "bar",
         "x": [
          25200000
         ],
         "xaxis": "x",
         "y": [
          "M19"
         ],
         "yaxis": "y"
        },
        {
         "alignmentgroup": "True",
         "base": [
          "2021-10-21T10:00:00"
         ],
         "hovertemplate": "Task=T#24 | F | MR<br>Start_Date=%{base}<br>End_Date=%{x}<br>Machine=%{y}<extra></extra>",
         "legendgroup": "T#24 | F | MR",
         "marker": {
          "color": "#B6E880"
         },
         "name": "T#24 | F | MR",
         "offsetgroup": "T#24 | F | MR",
         "orientation": "h",
         "showlegend": true,
         "textposition": "auto",
         "type": "bar",
         "x": [
          36000000
         ],
         "xaxis": "x",
         "y": [
          "M16"
         ],
         "yaxis": "y"
        },
        {
         "alignmentgroup": "True",
         "base": [
          "2021-10-21T13:00:00"
         ],
         "hovertemplate": "Task=T#6 | A | BK<br>Start_Date=%{base}<br>End_Date=%{x}<br>Machine=%{y}<extra></extra>",
         "legendgroup": "T#6 | A | BK",
         "marker": {
          "color": "#FF97FF"
         },
         "name": "T#6 | A | BK",
         "offsetgroup": "T#6 | A | BK",
         "orientation": "h",
         "showlegend": true,
         "textposition": "auto",
         "type": "bar",
         "x": [
          21600000
         ],
         "xaxis": "x",
         "y": [
          "M18"
         ],
         "yaxis": "y"
        },
        {
         "alignmentgroup": "True",
         "base": [
          "2021-10-21T23:00:00"
         ],
         "hovertemplate": "Task=T#31 | B | FG<br>Start_Date=%{base}<br>End_Date=%{x}<br>Machine=%{y}<extra></extra>",
         "legendgroup": "T#31 | B | FG",
         "marker": {
          "color": "#FECB52"
         },
         "name": "T#31 | B | FG",
         "offsetgroup": "T#31 | B | FG",
         "orientation": "h",
         "showlegend": true,
         "textposition": "auto",
         "type": "bar",
         "x": [
          21600000
         ],
         "xaxis": "x",
         "y": [
          "M11"
         ],
         "yaxis": "y"
        },
        {
         "alignmentgroup": "True",
         "base": [
          "2021-10-21T16:00:00"
         ],
         "hovertemplate": "Task=T#4 | C | B<br>Start_Date=%{base}<br>End_Date=%{x}<br>Machine=%{y}<extra></extra>",
         "legendgroup": "T#4 | C | B",
         "marker": {
          "color": "#636efa"
         },
         "name": "T#4 | C | B",
         "offsetgroup": "T#4 | C | B",
         "orientation": "h",
         "showlegend": true,
         "textposition": "auto",
         "type": "bar",
         "x": [
          7200000
         ],
         "xaxis": "x",
         "y": [
          "M12"
         ],
         "yaxis": "y"
        },
        {
         "alignmentgroup": "True",
         "base": [
          "2021-10-22T05:00:00"
         ],
         "hovertemplate": "Task=T#20 | B | BK<br>Start_Date=%{base}<br>End_Date=%{x}<br>Machine=%{y}<extra></extra>",
         "legendgroup": "T#20 | B | BK",
         "marker": {
          "color": "#EF553B"
         },
         "name": "T#20 | B | BK",
         "offsetgroup": "T#20 | B | BK",
         "orientation": "h",
         "showlegend": true,
         "textposition": "auto",
         "type": "bar",
         "x": [
          32400000
         ],
         "xaxis": "x",
         "y": [
          "M11"
         ],
         "yaxis": "y"
        },
        {
         "alignmentgroup": "True",
         "base": [
          "2021-10-21T18:00:00"
         ],
         "hovertemplate": "Task=T#29 | C | R<br>Start_Date=%{base}<br>End_Date=%{x}<br>Machine=%{y}<extra></extra>",
         "legendgroup": "T#29 | C | R",
         "marker": {
          "color": "#00cc96"
         },
         "name": "T#29 | C | R",
         "offsetgroup": "T#29 | C | R",
         "orientation": "h",
         "showlegend": true,
         "textposition": "auto",
         "type": "bar",
         "x": [
          32400000
         ],
         "xaxis": "x",
         "y": [
          "M12"
         ],
         "yaxis": "y"
        },
        {
         "alignmentgroup": "True",
         "base": [
          "2021-10-22T03:00:00"
         ],
         "hovertemplate": "Task=T#8 | C | PR<br>Start_Date=%{base}<br>End_Date=%{x}<br>Machine=%{y}<extra></extra>",
         "legendgroup": "T#8 | C | PR",
         "marker": {
          "color": "#ab63fa"
         },
         "name": "T#8 | C | PR",
         "offsetgroup": "T#8 | C | PR",
         "orientation": "h",
         "showlegend": true,
         "textposition": "auto",
         "type": "bar",
         "x": [
          21600000
         ],
         "xaxis": "x",
         "y": [
          "M12"
         ],
         "yaxis": "y"
        },
        {
         "alignmentgroup": "True",
         "base": [
          "2021-10-22T09:00:00"
         ],
         "hovertemplate": "Task=T#21 | C | PU<br>Start_Date=%{base}<br>End_Date=%{x}<br>Machine=%{y}<extra></extra>",
         "legendgroup": "T#21 | C | PU",
         "marker": {
          "color": "#FFA15A"
         },
         "name": "T#21 | C | PU",
         "offsetgroup": "T#21 | C | PU",
         "orientation": "h",
         "showlegend": true,
         "textposition": "auto",
         "type": "bar",
         "x": [
          28800000
         ],
         "xaxis": "x",
         "y": [
          "M12"
         ],
         "yaxis": "y"
        },
        {
         "alignmentgroup": "True",
         "base": [
          "2021-10-21T00:00:00"
         ],
         "hovertemplate": "Task=T#38 | E | SG<br>Start_Date=%{base}<br>End_Date=%{x}<br>Machine=%{y}<extra></extra>",
         "legendgroup": "T#38 | E | SG",
         "marker": {
          "color": "#19d3f3"
         },
         "name": "T#38 | E | SG",
         "offsetgroup": "T#38 | E | SG",
         "orientation": "h",
         "showlegend": true,
         "textposition": "auto",
         "type": "bar",
         "x": [
          25200000
         ],
         "xaxis": "x",
         "y": [
          "M15"
         ],
         "yaxis": "y"
        },
        {
         "alignmentgroup": "True",
         "base": [
          "2021-10-22T14:00:00"
         ],
         "hovertemplate": "Task=T#46 | B | FG<br>Start_Date=%{base}<br>End_Date=%{x}<br>Machine=%{y}<extra></extra>",
         "legendgroup": "T#46 | B | FG",
         "marker": {
          "color": "#FF6692"
         },
         "name": "T#46 | B | FG",
         "offsetgroup": "T#46 | B | FG",
         "orientation": "h",
         "showlegend": true,
         "textposition": "auto",
         "type": "bar",
         "x": [
          32400000
         ],
         "xaxis": "x",
         "y": [
          "M11"
         ],
         "yaxis": "y"
        },
        {
         "alignmentgroup": "True",
         "base": [
          "2021-10-22T23:00:00"
         ],
         "hovertemplate": "Task=T#44 | B | R<br>Start_Date=%{base}<br>End_Date=%{x}<br>Machine=%{y}<extra></extra>",
         "legendgroup": "T#44 | B | R",
         "marker": {
          "color": "#B6E880"
         },
         "name": "T#44 | B | R",
         "offsetgroup": "T#44 | B | R",
         "orientation": "h",
         "showlegend": true,
         "textposition": "auto",
         "type": "bar",
         "x": [
          36000000
         ],
         "xaxis": "x",
         "y": [
          "M11"
         ],
         "yaxis": "y"
        },
        {
         "alignmentgroup": "True",
         "base": [
          "2021-10-21T19:00:00"
         ],
         "hovertemplate": "Task=T#19 | A | FG<br>Start_Date=%{base}<br>End_Date=%{x}<br>Machine=%{y}<extra></extra>",
         "legendgroup": "T#19 | A | FG",
         "marker": {
          "color": "#FF97FF"
         },
         "name": "T#19 | A | FG",
         "offsetgroup": "T#19 | A | FG",
         "orientation": "h",
         "showlegend": true,
         "textposition": "auto",
         "type": "bar",
         "x": [
          25200000
         ],
         "xaxis": "x",
         "y": [
          "M18"
         ],
         "yaxis": "y"
        },
        {
         "alignmentgroup": "True",
         "base": [
          "2021-10-23T09:00:00"
         ],
         "hovertemplate": "Task=T#33 | B | PU<br>Start_Date=%{base}<br>End_Date=%{x}<br>Machine=%{y}<extra></extra>",
         "legendgroup": "T#33 | B | PU",
         "marker": {
          "color": "#FECB52"
         },
         "name": "T#33 | B | PU",
         "offsetgroup": "T#33 | B | PU",
         "orientation": "h",
         "showlegend": true,
         "textposition": "auto",
         "type": "bar",
         "x": [
          32400000
         ],
         "xaxis": "x",
         "y": [
          "M11"
         ],
         "yaxis": "y"
        },
        {
         "alignmentgroup": "True",
         "base": [
          "2021-10-22T09:00:00"
         ],
         "hovertemplate": "Task=T#36 | E | MR<br>Start_Date=%{base}<br>End_Date=%{x}<br>Machine=%{y}<extra></extra>",
         "legendgroup": "T#36 | E | MR",
         "marker": {
          "color": "#636efa"
         },
         "name": "T#36 | E | MR",
         "offsetgroup": "T#36 | E | MR",
         "orientation": "h",
         "showlegend": true,
         "textposition": "auto",
         "type": "bar",
         "x": [
          25200000
         ],
         "xaxis": "x",
         "y": [
          "M19"
         ],
         "yaxis": "y"
        },
        {
         "alignmentgroup": "True",
         "base": [
          "2021-10-21T20:00:00"
         ],
         "hovertemplate": "Task=T#13 | F | FG<br>Start_Date=%{base}<br>End_Date=%{x}<br>Machine=%{y}<extra></extra>",
         "legendgroup": "T#13 | F | FG",
         "marker": {
          "color": "#EF553B"
         },
         "name": "T#13 | F | FG",
         "offsetgroup": "T#13 | F | FG",
         "orientation": "h",
         "showlegend": true,
         "textposition": "auto",
         "type": "bar",
         "x": [
          25200000
         ],
         "xaxis": "x",
         "y": [
          "M16"
         ],
         "yaxis": "y"
        },
        {
         "alignmentgroup": "True",
         "base": [
          "2021-10-22T02:00:00"
         ],
         "hovertemplate": "Task=T#1 | A | FG<br>Start_Date=%{base}<br>End_Date=%{x}<br>Machine=%{y}<extra></extra>",
         "legendgroup": "T#1 | A | FG",
         "marker": {
          "color": "#00cc96"
         },
         "name": "T#1 | A | FG",
         "offsetgroup": "T#1 | A | FG",
         "orientation": "h",
         "showlegend": true,
         "textposition": "auto",
         "type": "bar",
         "x": [
          7200000
         ],
         "xaxis": "x",
         "y": [
          "M18"
         ],
         "yaxis": "y"
        },
        {
         "alignmentgroup": "True",
         "base": [
          "2021-10-23T18:00:00"
         ],
         "hovertemplate": "Task=T#28 | B | SG<br>Start_Date=%{base}<br>End_Date=%{x}<br>Machine=%{y}<extra></extra>",
         "legendgroup": "T#28 | B | SG",
         "marker": {
          "color": "#ab63fa"
         },
         "name": "T#28 | B | SG",
         "offsetgroup": "T#28 | B | SG",
         "orientation": "h",
         "showlegend": true,
         "textposition": "auto",
         "type": "bar",
         "x": [
          36000000
         ],
         "xaxis": "x",
         "y": [
          "M11"
         ],
         "yaxis": "y"
        },
        {
         "alignmentgroup": "True",
         "base": [
          "2021-10-22T17:00:00"
         ],
         "hovertemplate": "Task=T#3 | C | R<br>Start_Date=%{base}<br>End_Date=%{x}<br>Machine=%{y}<extra></extra>",
         "legendgroup": "T#3 | C | R",
         "marker": {
          "color": "#FFA15A"
         },
         "name": "T#3 | C | R",
         "offsetgroup": "T#3 | C | R",
         "orientation": "h",
         "showlegend": true,
         "textposition": "auto",
         "type": "bar",
         "x": [
          32400000
         ],
         "xaxis": "x",
         "y": [
          "M12"
         ],
         "yaxis": "y"
        },
        {
         "alignmentgroup": "True",
         "base": [
          "2021-10-22T03:00:00"
         ],
         "hovertemplate": "Task=T#26 | F | FG<br>Start_Date=%{base}<br>End_Date=%{x}<br>Machine=%{y}<extra></extra>",
         "legendgroup": "T#26 | F | FG",
         "marker": {
          "color": "#19d3f3"
         },
         "name": "T#26 | F | FG",
         "offsetgroup": "T#26 | F | FG",
         "orientation": "h",
         "showlegend": true,
         "textposition": "auto",
         "type": "bar",
         "x": [
          10800000
         ],
         "xaxis": "x",
         "y": [
          "M16"
         ],
         "yaxis": "y"
        },
        {
         "alignmentgroup": "True",
         "base": [
          "2021-10-23T02:00:00"
         ],
         "hovertemplate": "Task=T#17 | C | R<br>Start_Date=%{base}<br>End_Date=%{x}<br>Machine=%{y}<extra></extra>",
         "legendgroup": "T#17 | C | R",
         "marker": {
          "color": "#FF6692"
         },
         "name": "T#17 | C | R",
         "offsetgroup": "T#17 | C | R",
         "orientation": "h",
         "showlegend": true,
         "textposition": "auto",
         "type": "bar",
         "x": [
          14400000
         ],
         "xaxis": "x",
         "y": [
          "M12"
         ],
         "yaxis": "y"
        },
        {
         "alignmentgroup": "True",
         "base": [
          "2021-10-22T04:00:00"
         ],
         "hovertemplate": "Task=T#32 | A | BK<br>Start_Date=%{base}<br>End_Date=%{x}<br>Machine=%{y}<extra></extra>",
         "legendgroup": "T#32 | A | BK",
         "marker": {
          "color": "#B6E880"
         },
         "name": "T#32 | A | BK",
         "offsetgroup": "T#32 | A | BK",
         "orientation": "h",
         "showlegend": true,
         "textposition": "auto",
         "type": "bar",
         "x": [
          25200000
         ],
         "xaxis": "x",
         "y": [
          "M18"
         ],
         "yaxis": "y"
        },
        {
         "alignmentgroup": "True",
         "base": [
          "2021-10-21T08:00:00"
         ],
         "hovertemplate": "Task=T#43 | C | SG<br>Start_Date=%{base}<br>End_Date=%{x}<br>Machine=%{y}<extra></extra>",
         "legendgroup": "T#43 | C | SG",
         "marker": {
          "color": "#FF97FF"
         },
         "name": "T#43 | C | SG",
         "offsetgroup": "T#43 | C | SG",
         "orientation": "h",
         "showlegend": true,
         "textposition": "auto",
         "type": "bar",
         "x": [
          14400000
         ],
         "xaxis": "x",
         "y": [
          "M10"
         ],
         "yaxis": "y"
        },
        {
         "alignmentgroup": "True",
         "base": [
          "2021-10-22T06:00:00"
         ],
         "hovertemplate": "Task=T#11 | F | FG<br>Start_Date=%{base}<br>End_Date=%{x}<br>Machine=%{y}<extra></extra>",
         "legendgroup": "T#11 | F | FG",
         "marker": {
          "color": "#FECB52"
         },
         "name": "T#11 | F | FG",
         "offsetgroup": "T#11 | F | FG",
         "orientation": "h",
         "showlegend": true,
         "textposition": "auto",
         "type": "bar",
         "x": [
          21600000
         ],
         "xaxis": "x",
         "y": [
          "M16"
         ],
         "yaxis": "y"
        },
        {
         "alignmentgroup": "True",
         "base": [
          "2021-10-22T11:00:00"
         ],
         "hovertemplate": "Task=T#40 | A | B<br>Start_Date=%{base}<br>End_Date=%{x}<br>Machine=%{y}<extra></extra>",
         "legendgroup": "T#40 | A | B",
         "marker": {
          "color": "#636efa"
         },
         "name": "T#40 | A | B",
         "offsetgroup": "T#40 | A | B",
         "orientation": "h",
         "showlegend": true,
         "textposition": "auto",
         "type": "bar",
         "x": [
          25200000
         ],
         "xaxis": "x",
         "y": [
          "M18"
         ],
         "yaxis": "y"
        },
        {
         "alignmentgroup": "True",
         "base": [
          "2021-10-23T06:00:00"
         ],
         "hovertemplate": "Task=T#42 | C | O/G<br>Start_Date=%{base}<br>End_Date=%{x}<br>Machine=%{y}<extra></extra>",
         "legendgroup": "T#42 | C | O/G",
         "marker": {
          "color": "#EF553B"
         },
         "name": "T#42 | C | O/G",
         "offsetgroup": "T#42 | C | O/G",
         "orientation": "h",
         "showlegend": true,
         "textposition": "auto",
         "type": "bar",
         "x": [
          32400000
         ],
         "xaxis": "x",
         "y": [
          "M12"
         ],
         "yaxis": "y"
        },
        {
         "alignmentgroup": "True",
         "base": [
          "2021-10-24T04:00:00"
         ],
         "hovertemplate": "Task=T#18 | B | B<br>Start_Date=%{base}<br>End_Date=%{x}<br>Machine=%{y}<extra></extra>",
         "legendgroup": "T#18 | B | B",
         "marker": {
          "color": "#00cc96"
         },
         "name": "T#18 | B | B",
         "offsetgroup": "T#18 | B | B",
         "orientation": "h",
         "showlegend": true,
         "textposition": "auto",
         "type": "bar",
         "x": [
          36000000
         ],
         "xaxis": "x",
         "y": [
          "M11"
         ],
         "yaxis": "y"
        },
        {
         "alignmentgroup": "True",
         "base": [
          "2021-10-24T14:00:00"
         ],
         "hovertemplate": "Task=T#15 | B | O/G<br>Start_Date=%{base}<br>End_Date=%{x}<br>Machine=%{y}<extra></extra>",
         "legendgroup": "T#15 | B | O/G",
         "marker": {
          "color": "#ab63fa"
         },
         "name": "T#15 | B | O/G",
         "offsetgroup": "T#15 | B | O/G",
         "orientation": "h",
         "showlegend": true,
         "textposition": "auto",
         "type": "bar",
         "x": [
          36000000
         ],
         "xaxis": "x",
         "y": [
          "M11"
         ],
         "yaxis": "y"
        },
        {
         "alignmentgroup": "True",
         "base": [
          "2021-10-21T09:00:00"
         ],
         "hovertemplate": "Task=T#22 | D | PR<br>Start_Date=%{base}<br>End_Date=%{x}<br>Machine=%{y}<extra></extra>",
         "legendgroup": "T#22 | D | PR",
         "marker": {
          "color": "#FFA15A"
         },
         "name": "T#22 | D | PR",
         "offsetgroup": "T#22 | D | PR",
         "orientation": "h",
         "showlegend": true,
         "textposition": "auto",
         "type": "bar",
         "x": [
          32400000
         ],
         "xaxis": "x",
         "y": [
          "M20"
         ],
         "yaxis": "y"
        },
        {
         "alignmentgroup": "True",
         "base": [
          "2021-10-25T00:00:00"
         ],
         "hovertemplate": "Task=T#7 | B | PU<br>Start_Date=%{base}<br>End_Date=%{x}<br>Machine=%{y}<extra></extra>",
         "legendgroup": "T#7 | B | PU",
         "marker": {
          "color": "#19d3f3"
         },
         "name": "T#7 | B | PU",
         "offsetgroup": "T#7 | B | PU",
         "orientation": "h",
         "showlegend": true,
         "textposition": "auto",
         "type": "bar",
         "x": [
          25200000
         ],
         "xaxis": "x",
         "y": [
          "M11"
         ],
         "yaxis": "y"
        },
        {
         "alignmentgroup": "True",
         "base": [
          "2021-10-22T18:00:00"
         ],
         "hovertemplate": "Task=T#14 | A | SG<br>Start_Date=%{base}<br>End_Date=%{x}<br>Machine=%{y}<extra></extra>",
         "legendgroup": "T#14 | A | SG",
         "marker": {
          "color": "#FF6692"
         },
         "name": "T#14 | A | SG",
         "offsetgroup": "T#14 | A | SG",
         "orientation": "h",
         "showlegend": true,
         "textposition": "auto",
         "type": "bar",
         "x": [
          25200000
         ],
         "xaxis": "x",
         "y": [
          "M18"
         ],
         "yaxis": "y"
        },
        {
         "alignmentgroup": "True",
         "base": [
          "2021-10-22T12:00:00"
         ],
         "hovertemplate": "Task=T#39 | F | R<br>Start_Date=%{base}<br>End_Date=%{x}<br>Machine=%{y}<extra></extra>",
         "legendgroup": "T#39 | F | R",
         "marker": {
          "color": "#B6E880"
         },
         "name": "T#39 | F | R",
         "offsetgroup": "T#39 | F | R",
         "orientation": "h",
         "showlegend": true,
         "textposition": "auto",
         "type": "bar",
         "x": [
          25200000
         ],
         "xaxis": "x",
         "y": [
          "M16"
         ],
         "yaxis": "y"
        },
        {
         "alignmentgroup": "True",
         "base": [
          "2021-10-23T15:00:00"
         ],
         "hovertemplate": "Task=T#47 | C | BK<br>Start_Date=%{base}<br>End_Date=%{x}<br>Machine=%{y}<extra></extra>",
         "legendgroup": "T#47 | C | BK",
         "marker": {
          "color": "#FF97FF"
         },
         "name": "T#47 | C | BK",
         "offsetgroup": "T#47 | C | BK",
         "orientation": "h",
         "showlegend": true,
         "textposition": "auto",
         "type": "bar",
         "x": [
          28800000
         ],
         "xaxis": "x",
         "y": [
          "M12"
         ],
         "yaxis": "y"
        }
       ],
       "layout": {
        "barmode": "overlay",
        "legend": {
         "title": {
          "text": "Task"
         },
         "tracegroupgap": 0
        },
        "margin": {
         "t": 60
        },
        "template": {
         "data": {
          "bar": [
           {
            "error_x": {
             "color": "#2a3f5f"
            },
            "error_y": {
             "color": "#2a3f5f"
            },
            "marker": {
             "line": {
              "color": "#E5ECF6",
              "width": 0.5
             },
             "pattern": {
              "fillmode": "overlay",
              "size": 10,
              "solidity": 0.2
             }
            },
            "type": "bar"
           }
          ],
          "barpolar": [
           {
            "marker": {
             "line": {
              "color": "#E5ECF6",
              "width": 0.5
             },
             "pattern": {
              "fillmode": "overlay",
              "size": 10,
              "solidity": 0.2
             }
            },
            "type": "barpolar"
           }
          ],
          "carpet": [
           {
            "aaxis": {
             "endlinecolor": "#2a3f5f",
             "gridcolor": "white",
             "linecolor": "white",
             "minorgridcolor": "white",
             "startlinecolor": "#2a3f5f"
            },
            "baxis": {
             "endlinecolor": "#2a3f5f",
             "gridcolor": "white",
             "linecolor": "white",
             "minorgridcolor": "white",
             "startlinecolor": "#2a3f5f"
            },
            "type": "carpet"
           }
          ],
          "choropleth": [
           {
            "colorbar": {
             "outlinewidth": 0,
             "ticks": ""
            },
            "type": "choropleth"
           }
          ],
          "contour": [
           {
            "colorbar": {
             "outlinewidth": 0,
             "ticks": ""
            },
            "colorscale": [
             [
              0,
              "#0d0887"
             ],
             [
              0.1111111111111111,
              "#46039f"
             ],
             [
              0.2222222222222222,
              "#7201a8"
             ],
             [
              0.3333333333333333,
              "#9c179e"
             ],
             [
              0.4444444444444444,
              "#bd3786"
             ],
             [
              0.5555555555555556,
              "#d8576b"
             ],
             [
              0.6666666666666666,
              "#ed7953"
             ],
             [
              0.7777777777777778,
              "#fb9f3a"
             ],
             [
              0.8888888888888888,
              "#fdca26"
             ],
             [
              1,
              "#f0f921"
             ]
            ],
            "type": "contour"
           }
          ],
          "contourcarpet": [
           {
            "colorbar": {
             "outlinewidth": 0,
             "ticks": ""
            },
            "type": "contourcarpet"
           }
          ],
          "heatmap": [
           {
            "colorbar": {
             "outlinewidth": 0,
             "ticks": ""
            },
            "colorscale": [
             [
              0,
              "#0d0887"
             ],
             [
              0.1111111111111111,
              "#46039f"
             ],
             [
              0.2222222222222222,
              "#7201a8"
             ],
             [
              0.3333333333333333,
              "#9c179e"
             ],
             [
              0.4444444444444444,
              "#bd3786"
             ],
             [
              0.5555555555555556,
              "#d8576b"
             ],
             [
              0.6666666666666666,
              "#ed7953"
             ],
             [
              0.7777777777777778,
              "#fb9f3a"
             ],
             [
              0.8888888888888888,
              "#fdca26"
             ],
             [
              1,
              "#f0f921"
             ]
            ],
            "type": "heatmap"
           }
          ],
          "heatmapgl": [
           {
            "colorbar": {
             "outlinewidth": 0,
             "ticks": ""
            },
            "colorscale": [
             [
              0,
              "#0d0887"
             ],
             [
              0.1111111111111111,
              "#46039f"
             ],
             [
              0.2222222222222222,
              "#7201a8"
             ],
             [
              0.3333333333333333,
              "#9c179e"
             ],
             [
              0.4444444444444444,
              "#bd3786"
             ],
             [
              0.5555555555555556,
              "#d8576b"
             ],
             [
              0.6666666666666666,
              "#ed7953"
             ],
             [
              0.7777777777777778,
              "#fb9f3a"
             ],
             [
              0.8888888888888888,
              "#fdca26"
             ],
             [
              1,
              "#f0f921"
             ]
            ],
            "type": "heatmapgl"
           }
          ],
          "histogram": [
           {
            "marker": {
             "pattern": {
              "fillmode": "overlay",
              "size": 10,
              "solidity": 0.2
             }
            },
            "type": "histogram"
           }
          ],
          "histogram2d": [
           {
            "colorbar": {
             "outlinewidth": 0,
             "ticks": ""
            },
            "colorscale": [
             [
              0,
              "#0d0887"
             ],
             [
              0.1111111111111111,
              "#46039f"
             ],
             [
              0.2222222222222222,
              "#7201a8"
             ],
             [
              0.3333333333333333,
              "#9c179e"
             ],
             [
              0.4444444444444444,
              "#bd3786"
             ],
             [
              0.5555555555555556,
              "#d8576b"
             ],
             [
              0.6666666666666666,
              "#ed7953"
             ],
             [
              0.7777777777777778,
              "#fb9f3a"
             ],
             [
              0.8888888888888888,
              "#fdca26"
             ],
             [
              1,
              "#f0f921"
             ]
            ],
            "type": "histogram2d"
           }
          ],
          "histogram2dcontour": [
           {
            "colorbar": {
             "outlinewidth": 0,
             "ticks": ""
            },
            "colorscale": [
             [
              0,
              "#0d0887"
             ],
             [
              0.1111111111111111,
              "#46039f"
             ],
             [
              0.2222222222222222,
              "#7201a8"
             ],
             [
              0.3333333333333333,
              "#9c179e"
             ],
             [
              0.4444444444444444,
              "#bd3786"
             ],
             [
              0.5555555555555556,
              "#d8576b"
             ],
             [
              0.6666666666666666,
              "#ed7953"
             ],
             [
              0.7777777777777778,
              "#fb9f3a"
             ],
             [
              0.8888888888888888,
              "#fdca26"
             ],
             [
              1,
              "#f0f921"
             ]
            ],
            "type": "histogram2dcontour"
           }
          ],
          "mesh3d": [
           {
            "colorbar": {
             "outlinewidth": 0,
             "ticks": ""
            },
            "type": "mesh3d"
           }
          ],
          "parcoords": [
           {
            "line": {
             "colorbar": {
              "outlinewidth": 0,
              "ticks": ""
             }
            },
            "type": "parcoords"
           }
          ],
          "pie": [
           {
            "automargin": true,
            "type": "pie"
           }
          ],
          "scatter": [
           {
            "marker": {
             "colorbar": {
              "outlinewidth": 0,
              "ticks": ""
             }
            },
            "type": "scatter"
           }
          ],
          "scatter3d": [
           {
            "line": {
             "colorbar": {
              "outlinewidth": 0,
              "ticks": ""
             }
            },
            "marker": {
             "colorbar": {
              "outlinewidth": 0,
              "ticks": ""
             }
            },
            "type": "scatter3d"
           }
          ],
          "scattercarpet": [
           {
            "marker": {
             "colorbar": {
              "outlinewidth": 0,
              "ticks": ""
             }
            },
            "type": "scattercarpet"
           }
          ],
          "scattergeo": [
           {
            "marker": {
             "colorbar": {
              "outlinewidth": 0,
              "ticks": ""
             }
            },
            "type": "scattergeo"
           }
          ],
          "scattergl": [
           {
            "marker": {
             "colorbar": {
              "outlinewidth": 0,
              "ticks": ""
             }
            },
            "type": "scattergl"
           }
          ],
          "scattermapbox": [
           {
            "marker": {
             "colorbar": {
              "outlinewidth": 0,
              "ticks": ""
             }
            },
            "type": "scattermapbox"
           }
          ],
          "scatterpolar": [
           {
            "marker": {
             "colorbar": {
              "outlinewidth": 0,
              "ticks": ""
             }
            },
            "type": "scatterpolar"
           }
          ],
          "scatterpolargl": [
           {
            "marker": {
             "colorbar": {
              "outlinewidth": 0,
              "ticks": ""
             }
            },
            "type": "scatterpolargl"
           }
          ],
          "scatterternary": [
           {
            "marker": {
             "colorbar": {
              "outlinewidth": 0,
              "ticks": ""
             }
            },
            "type": "scatterternary"
           }
          ],
          "surface": [
           {
            "colorbar": {
             "outlinewidth": 0,
             "ticks": ""
            },
            "colorscale": [
             [
              0,
              "#0d0887"
             ],
             [
              0.1111111111111111,
              "#46039f"
             ],
             [
              0.2222222222222222,
              "#7201a8"
             ],
             [
              0.3333333333333333,
              "#9c179e"
             ],
             [
              0.4444444444444444,
              "#bd3786"
             ],
             [
              0.5555555555555556,
              "#d8576b"
             ],
             [
              0.6666666666666666,
              "#ed7953"
             ],
             [
              0.7777777777777778,
              "#fb9f3a"
             ],
             [
              0.8888888888888888,
              "#fdca26"
             ],
             [
              1,
              "#f0f921"
             ]
            ],
            "type": "surface"
           }
          ],
          "table": [
           {
            "cells": {
             "fill": {
              "color": "#EBF0F8"
             },
             "line": {
              "color": "white"
             }
            },
            "header": {
             "fill": {
              "color": "#C8D4E3"
             },
             "line": {
              "color": "white"
             }
            },
            "type": "table"
           }
          ]
         },
         "layout": {
          "annotationdefaults": {
           "arrowcolor": "#2a3f5f",
           "arrowhead": 0,
           "arrowwidth": 1
          },
          "autotypenumbers": "strict",
          "coloraxis": {
           "colorbar": {
            "outlinewidth": 0,
            "ticks": ""
           }
          },
          "colorscale": {
           "diverging": [
            [
             0,
             "#8e0152"
            ],
            [
             0.1,
             "#c51b7d"
            ],
            [
             0.2,
             "#de77ae"
            ],
            [
             0.3,
             "#f1b6da"
            ],
            [
             0.4,
             "#fde0ef"
            ],
            [
             0.5,
             "#f7f7f7"
            ],
            [
             0.6,
             "#e6f5d0"
            ],
            [
             0.7,
             "#b8e186"
            ],
            [
             0.8,
             "#7fbc41"
            ],
            [
             0.9,
             "#4d9221"
            ],
            [
             1,
             "#276419"
            ]
           ],
           "sequential": [
            [
             0,
             "#0d0887"
            ],
            [
             0.1111111111111111,
             "#46039f"
            ],
            [
             0.2222222222222222,
             "#7201a8"
            ],
            [
             0.3333333333333333,
             "#9c179e"
            ],
            [
             0.4444444444444444,
             "#bd3786"
            ],
            [
             0.5555555555555556,
             "#d8576b"
            ],
            [
             0.6666666666666666,
             "#ed7953"
            ],
            [
             0.7777777777777778,
             "#fb9f3a"
            ],
            [
             0.8888888888888888,
             "#fdca26"
            ],
            [
             1,
             "#f0f921"
            ]
           ],
           "sequentialminus": [
            [
             0,
             "#0d0887"
            ],
            [
             0.1111111111111111,
             "#46039f"
            ],
            [
             0.2222222222222222,
             "#7201a8"
            ],
            [
             0.3333333333333333,
             "#9c179e"
            ],
            [
             0.4444444444444444,
             "#bd3786"
            ],
            [
             0.5555555555555556,
             "#d8576b"
            ],
            [
             0.6666666666666666,
             "#ed7953"
            ],
            [
             0.7777777777777778,
             "#fb9f3a"
            ],
            [
             0.8888888888888888,
             "#fdca26"
            ],
            [
             1,
             "#f0f921"
            ]
           ]
          },
          "colorway": [
           "#636efa",
           "#EF553B",
           "#00cc96",
           "#ab63fa",
           "#FFA15A",
           "#19d3f3",
           "#FF6692",
           "#B6E880",
           "#FF97FF",
           "#FECB52"
          ],
          "font": {
           "color": "#2a3f5f"
          },
          "geo": {
           "bgcolor": "white",
           "lakecolor": "white",
           "landcolor": "#E5ECF6",
           "showlakes": true,
           "showland": true,
           "subunitcolor": "white"
          },
          "hoverlabel": {
           "align": "left"
          },
          "hovermode": "closest",
          "mapbox": {
           "style": "light"
          },
          "paper_bgcolor": "white",
          "plot_bgcolor": "#E5ECF6",
          "polar": {
           "angularaxis": {
            "gridcolor": "white",
            "linecolor": "white",
            "ticks": ""
           },
           "bgcolor": "#E5ECF6",
           "radialaxis": {
            "gridcolor": "white",
            "linecolor": "white",
            "ticks": ""
           }
          },
          "scene": {
           "xaxis": {
            "backgroundcolor": "#E5ECF6",
            "gridcolor": "white",
            "gridwidth": 2,
            "linecolor": "white",
            "showbackground": true,
            "ticks": "",
            "zerolinecolor": "white"
           },
           "yaxis": {
            "backgroundcolor": "#E5ECF6",
            "gridcolor": "white",
            "gridwidth": 2,
            "linecolor": "white",
            "showbackground": true,
            "ticks": "",
            "zerolinecolor": "white"
           },
           "zaxis": {
            "backgroundcolor": "#E5ECF6",
            "gridcolor": "white",
            "gridwidth": 2,
            "linecolor": "white",
            "showbackground": true,
            "ticks": "",
            "zerolinecolor": "white"
           }
          },
          "shapedefaults": {
           "line": {
            "color": "#2a3f5f"
           }
          },
          "ternary": {
           "aaxis": {
            "gridcolor": "white",
            "linecolor": "white",
            "ticks": ""
           },
           "baxis": {
            "gridcolor": "white",
            "linecolor": "white",
            "ticks": ""
           },
           "bgcolor": "#E5ECF6",
           "caxis": {
            "gridcolor": "white",
            "linecolor": "white",
            "ticks": ""
           }
          },
          "title": {
           "x": 0.05
          },
          "xaxis": {
           "automargin": true,
           "gridcolor": "white",
           "linecolor": "white",
           "ticks": "",
           "title": {
            "standoff": 15
           },
           "zerolinecolor": "white",
           "zerolinewidth": 2
          },
          "yaxis": {
           "automargin": true,
           "gridcolor": "white",
           "linecolor": "white",
           "ticks": "",
           "title": {
            "standoff": 15
           },
           "zerolinecolor": "white",
           "zerolinewidth": 2
          }
         }
        },
        "xaxis": {
         "anchor": "y",
         "domain": [
          0,
          1
         ],
         "rangeslider": {
          "visible": true
         },
         "type": "date"
        },
        "yaxis": {
         "anchor": "x",
         "autorange": "reversed",
         "categoryorder": "category ascending",
         "domain": [
          0,
          1
         ],
         "title": {
          "text": "Machine"
         }
        }
       }
      },
      "text/html": [
       "<div>                            <div id=\"d43c8c3b-98ea-463d-aead-21273aee7301\" class=\"plotly-graph-div\" style=\"height:525px; width:100%;\"></div>            <script type=\"text/javascript\">                require([\"plotly\"], function(Plotly) {                    window.PLOTLYENV=window.PLOTLYENV || {};                                    if (document.getElementById(\"d43c8c3b-98ea-463d-aead-21273aee7301\")) {                    Plotly.newPlot(                        \"d43c8c3b-98ea-463d-aead-21273aee7301\",                        [{\"alignmentgroup\":\"True\",\"base\":[\"2021-10-21T00:00:00\"],\"hovertemplate\":\"Task=T#27 | A | O/G<br>Start_Date=%{base}<br>End_Date=%{x}<br>Machine=%{y}<extra></extra>\",\"legendgroup\":\"T#27 | A | O/G\",\"marker\":{\"color\":\"#636efa\"},\"name\":\"T#27 | A | O/G\",\"offsetgroup\":\"T#27 | A | O/G\",\"orientation\":\"h\",\"showlegend\":true,\"textposition\":\"auto\",\"type\":\"bar\",\"x\":[21600000.0],\"xaxis\":\"x\",\"y\":[\"M18\"],\"yaxis\":\"y\"},{\"alignmentgroup\":\"True\",\"base\":[\"2021-10-21T00:00:00\"],\"hovertemplate\":\"Task=T#35 | D | MG<br>Start_Date=%{base}<br>End_Date=%{x}<br>Machine=%{y}<extra></extra>\",\"legendgroup\":\"T#35 | D | MG\",\"marker\":{\"color\":\"#EF553B\"},\"name\":\"T#35 | D | MG\",\"offsetgroup\":\"T#35 | D | MG\",\"orientation\":\"h\",\"showlegend\":true,\"textposition\":\"auto\",\"type\":\"bar\",\"x\":[28800000.0],\"xaxis\":\"x\",\"y\":[\"M14\"],\"yaxis\":\"y\"},{\"alignmentgroup\":\"True\",\"base\":[\"2021-10-21T00:00:00\"],\"hovertemplate\":\"Task=T#2 | B | SG<br>Start_Date=%{base}<br>End_Date=%{x}<br>Machine=%{y}<extra></extra>\",\"legendgroup\":\"T#2 | B | SG\",\"marker\":{\"color\":\"#00cc96\"},\"name\":\"T#2 | B | SG\",\"offsetgroup\":\"T#2 | B | SG\",\"orientation\":\"h\",\"showlegend\":true,\"textposition\":\"auto\",\"type\":\"bar\",\"x\":[36000000.0],\"xaxis\":\"x\",\"y\":[\"M11\"],\"yaxis\":\"y\"},{\"alignmentgroup\":\"True\",\"base\":[\"2021-10-21T00:00:00\"],\"hovertemplate\":\"Task=T#34 | C | PR<br>Start_Date=%{base}<br>End_Date=%{x}<br>Machine=%{y}<extra></extra>\",\"legendgroup\":\"T#34 | C | PR\",\"marker\":{\"color\":\"#ab63fa\"},\"name\":\"T#34 | C | PR\",\"offsetgroup\":\"T#34 | C | PR\",\"orientation\":\"h\",\"showlegend\":true,\"textposition\":\"auto\",\"type\":\"bar\",\"x\":[28800000.0],\"xaxis\":\"x\",\"y\":[\"M12\"],\"yaxis\":\"y\"},{\"alignmentgroup\":\"True\",\"base\":[\"2021-10-21T10:00:00\"],\"hovertemplate\":\"Task=T#41 | B | FG<br>Start_Date=%{base}<br>End_Date=%{x}<br>Machine=%{y}<extra></extra>\",\"legendgroup\":\"T#41 | B | FG\",\"marker\":{\"color\":\"#FFA15A\"},\"name\":\"T#41 | B | FG\",\"offsetgroup\":\"T#41 | B | FG\",\"orientation\":\"h\",\"showlegend\":true,\"textposition\":\"auto\",\"type\":\"bar\",\"x\":[36000000.0],\"xaxis\":\"x\",\"y\":[\"M11\"],\"yaxis\":\"y\"},{\"alignmentgroup\":\"True\",\"base\":[\"2021-10-21T08:00:00\"],\"hovertemplate\":\"Task=T#30 | C | B<br>Start_Date=%{base}<br>End_Date=%{x}<br>Machine=%{y}<extra></extra>\",\"legendgroup\":\"T#30 | C | B\",\"marker\":{\"color\":\"#19d3f3\"},\"name\":\"T#30 | C | B\",\"offsetgroup\":\"T#30 | C | B\",\"orientation\":\"h\",\"showlegend\":true,\"textposition\":\"auto\",\"type\":\"bar\",\"x\":[28800000.0],\"xaxis\":\"x\",\"y\":[\"M12\"],\"yaxis\":\"y\"},{\"alignmentgroup\":\"True\",\"base\":[\"2021-10-21T00:00:00\"],\"hovertemplate\":\"Task=T#16 | C | SG<br>Start_Date=%{base}<br>End_Date=%{x}<br>Machine=%{y}<extra></extra>\",\"legendgroup\":\"T#16 | C | SG\",\"marker\":{\"color\":\"#FF6692\"},\"name\":\"T#16 | C | SG\",\"offsetgroup\":\"T#16 | C | SG\",\"orientation\":\"h\",\"showlegend\":true,\"textposition\":\"auto\",\"type\":\"bar\",\"x\":[28800000.0],\"xaxis\":\"x\",\"y\":[\"M10\"],\"yaxis\":\"y\"},{\"alignmentgroup\":\"True\",\"base\":[\"2021-10-21T00:00:00\"],\"hovertemplate\":\"Task=T#48 | D | PU<br>Start_Date=%{base}<br>End_Date=%{x}<br>Machine=%{y}<extra></extra>\",\"legendgroup\":\"T#48 | D | PU\",\"marker\":{\"color\":\"#B6E880\"},\"name\":\"T#48 | D | PU\",\"offsetgroup\":\"T#48 | D | PU\",\"orientation\":\"h\",\"showlegend\":true,\"textposition\":\"auto\",\"type\":\"bar\",\"x\":[32400000.0],\"xaxis\":\"x\",\"y\":[\"M20\"],\"yaxis\":\"y\"},{\"alignmentgroup\":\"True\",\"base\":[\"2021-10-21T08:00:00\"],\"hovertemplate\":\"Task=T#9 | D | MG<br>Start_Date=%{base}<br>End_Date=%{x}<br>Machine=%{y}<extra></extra>\",\"legendgroup\":\"T#9 | D | MG\",\"marker\":{\"color\":\"#FF97FF\"},\"name\":\"T#9 | D | MG\",\"offsetgroup\":\"T#9 | D | MG\",\"orientation\":\"h\",\"showlegend\":true,\"textposition\":\"auto\",\"type\":\"bar\",\"x\":[10800000.0],\"xaxis\":\"x\",\"y\":[\"M14\"],\"yaxis\":\"y\"},{\"alignmentgroup\":\"True\",\"base\":[\"2021-10-21T00:00:00\"],\"hovertemplate\":\"Task=T#10 | E | MR<br>Start_Date=%{base}<br>End_Date=%{x}<br>Machine=%{y}<extra></extra>\",\"legendgroup\":\"T#10 | E | MR\",\"marker\":{\"color\":\"#FECB52\"},\"name\":\"T#10 | E | MR\",\"offsetgroup\":\"T#10 | E | MR\",\"orientation\":\"h\",\"showlegend\":true,\"textposition\":\"auto\",\"type\":\"bar\",\"x\":[28800000.0],\"xaxis\":\"x\",\"y\":[\"M19\"],\"yaxis\":\"y\"},{\"alignmentgroup\":\"True\",\"base\":[\"2021-10-21T20:00:00\"],\"hovertemplate\":\"Task=T#5 | B | FG<br>Start_Date=%{base}<br>End_Date=%{x}<br>Machine=%{y}<extra></extra>\",\"legendgroup\":\"T#5 | B | FG\",\"marker\":{\"color\":\"#636efa\"},\"name\":\"T#5 | B | FG\",\"offsetgroup\":\"T#5 | B | FG\",\"orientation\":\"h\",\"showlegend\":true,\"textposition\":\"auto\",\"type\":\"bar\",\"x\":[10800000.0],\"xaxis\":\"x\",\"y\":[\"M11\"],\"yaxis\":\"y\"},{\"alignmentgroup\":\"True\",\"base\":[\"2021-10-21T08:00:00\"],\"hovertemplate\":\"Task=T#23 | E | MG<br>Start_Date=%{base}<br>End_Date=%{x}<br>Machine=%{y}<extra></extra>\",\"legendgroup\":\"T#23 | E | MG\",\"marker\":{\"color\":\"#EF553B\"},\"name\":\"T#23 | E | MG\",\"offsetgroup\":\"T#23 | E | MG\",\"orientation\":\"h\",\"showlegend\":true,\"textposition\":\"auto\",\"type\":\"bar\",\"x\":[25200000.0],\"xaxis\":\"x\",\"y\":[\"M19\"],\"yaxis\":\"y\"},{\"alignmentgroup\":\"True\",\"base\":[\"2021-10-21T15:00:00\"],\"hovertemplate\":\"Task=T#12 | E | FG<br>Start_Date=%{base}<br>End_Date=%{x}<br>Machine=%{y}<extra></extra>\",\"legendgroup\":\"T#12 | E | FG\",\"marker\":{\"color\":\"#00cc96\"},\"name\":\"T#12 | E | FG\",\"offsetgroup\":\"T#12 | E | FG\",\"orientation\":\"h\",\"showlegend\":true,\"textposition\":\"auto\",\"type\":\"bar\",\"x\":[32400000.0],\"xaxis\":\"x\",\"y\":[\"M19\"],\"yaxis\":\"y\"},{\"alignmentgroup\":\"True\",\"base\":[\"2021-10-21T00:00:00\"],\"hovertemplate\":\"Task=T#37 | F | O/G<br>Start_Date=%{base}<br>End_Date=%{x}<br>Machine=%{y}<extra></extra>\",\"legendgroup\":\"T#37 | F | O/G\",\"marker\":{\"color\":\"#ab63fa\"},\"name\":\"T#37 | F | O/G\",\"offsetgroup\":\"T#37 | F | O/G\",\"orientation\":\"h\",\"showlegend\":true,\"textposition\":\"auto\",\"type\":\"bar\",\"x\":[36000000.0],\"xaxis\":\"x\",\"y\":[\"M16\"],\"yaxis\":\"y\"},{\"alignmentgroup\":\"True\",\"base\":[\"2021-10-21T06:00:00\"],\"hovertemplate\":\"Task=T#45 | A | B<br>Start_Date=%{base}<br>End_Date=%{x}<br>Machine=%{y}<extra></extra>\",\"legendgroup\":\"T#45 | A | B\",\"marker\":{\"color\":\"#FFA15A\"},\"name\":\"T#45 | A | B\",\"offsetgroup\":\"T#45 | A | B\",\"orientation\":\"h\",\"showlegend\":true,\"textposition\":\"auto\",\"type\":\"bar\",\"x\":[25200000.0],\"xaxis\":\"x\",\"y\":[\"M18\"],\"yaxis\":\"y\"},{\"alignmentgroup\":\"True\",\"base\":[\"2021-10-22T00:00:00\"],\"hovertemplate\":\"Task=T#25 | E | FG<br>Start_Date=%{base}<br>End_Date=%{x}<br>Machine=%{y}<extra></extra>\",\"legendgroup\":\"T#25 | E | FG\",\"marker\":{\"color\":\"#19d3f3\"},\"name\":\"T#25 | E | FG\",\"offsetgroup\":\"T#25 | E | FG\",\"orientation\":\"h\",\"showlegend\":true,\"textposition\":\"auto\",\"type\":\"bar\",\"x\":[7200000.0],\"xaxis\":\"x\",\"y\":[\"M19\"],\"yaxis\":\"y\"},{\"alignmentgroup\":\"True\",\"base\":[\"2021-10-22T02:00:00\"],\"hovertemplate\":\"Task=T#49 | E | PR<br>Start_Date=%{base}<br>End_Date=%{x}<br>Machine=%{y}<extra></extra>\",\"legendgroup\":\"T#49 | E | PR\",\"marker\":{\"color\":\"#FF6692\"},\"name\":\"T#49 | E | PR\",\"offsetgroup\":\"T#49 | E | PR\",\"orientation\":\"h\",\"showlegend\":true,\"textposition\":\"auto\",\"type\":\"bar\",\"x\":[25200000.0],\"xaxis\":\"x\",\"y\":[\"M19\"],\"yaxis\":\"y\"},{\"alignmentgroup\":\"True\",\"base\":[\"2021-10-21T10:00:00\"],\"hovertemplate\":\"Task=T#24 | F | MR<br>Start_Date=%{base}<br>End_Date=%{x}<br>Machine=%{y}<extra></extra>\",\"legendgroup\":\"T#24 | F | MR\",\"marker\":{\"color\":\"#B6E880\"},\"name\":\"T#24 | F | MR\",\"offsetgroup\":\"T#24 | F | MR\",\"orientation\":\"h\",\"showlegend\":true,\"textposition\":\"auto\",\"type\":\"bar\",\"x\":[36000000.0],\"xaxis\":\"x\",\"y\":[\"M16\"],\"yaxis\":\"y\"},{\"alignmentgroup\":\"True\",\"base\":[\"2021-10-21T13:00:00\"],\"hovertemplate\":\"Task=T#6 | A | BK<br>Start_Date=%{base}<br>End_Date=%{x}<br>Machine=%{y}<extra></extra>\",\"legendgroup\":\"T#6 | A | BK\",\"marker\":{\"color\":\"#FF97FF\"},\"name\":\"T#6 | A | BK\",\"offsetgroup\":\"T#6 | A | BK\",\"orientation\":\"h\",\"showlegend\":true,\"textposition\":\"auto\",\"type\":\"bar\",\"x\":[21600000.0],\"xaxis\":\"x\",\"y\":[\"M18\"],\"yaxis\":\"y\"},{\"alignmentgroup\":\"True\",\"base\":[\"2021-10-21T23:00:00\"],\"hovertemplate\":\"Task=T#31 | B | FG<br>Start_Date=%{base}<br>End_Date=%{x}<br>Machine=%{y}<extra></extra>\",\"legendgroup\":\"T#31 | B | FG\",\"marker\":{\"color\":\"#FECB52\"},\"name\":\"T#31 | B | FG\",\"offsetgroup\":\"T#31 | B | FG\",\"orientation\":\"h\",\"showlegend\":true,\"textposition\":\"auto\",\"type\":\"bar\",\"x\":[21600000.0],\"xaxis\":\"x\",\"y\":[\"M11\"],\"yaxis\":\"y\"},{\"alignmentgroup\":\"True\",\"base\":[\"2021-10-21T16:00:00\"],\"hovertemplate\":\"Task=T#4 | C | B<br>Start_Date=%{base}<br>End_Date=%{x}<br>Machine=%{y}<extra></extra>\",\"legendgroup\":\"T#4 | C | B\",\"marker\":{\"color\":\"#636efa\"},\"name\":\"T#4 | C | B\",\"offsetgroup\":\"T#4 | C | B\",\"orientation\":\"h\",\"showlegend\":true,\"textposition\":\"auto\",\"type\":\"bar\",\"x\":[7200000.0],\"xaxis\":\"x\",\"y\":[\"M12\"],\"yaxis\":\"y\"},{\"alignmentgroup\":\"True\",\"base\":[\"2021-10-22T05:00:00\"],\"hovertemplate\":\"Task=T#20 | B | BK<br>Start_Date=%{base}<br>End_Date=%{x}<br>Machine=%{y}<extra></extra>\",\"legendgroup\":\"T#20 | B | BK\",\"marker\":{\"color\":\"#EF553B\"},\"name\":\"T#20 | B | BK\",\"offsetgroup\":\"T#20 | B | BK\",\"orientation\":\"h\",\"showlegend\":true,\"textposition\":\"auto\",\"type\":\"bar\",\"x\":[32400000.0],\"xaxis\":\"x\",\"y\":[\"M11\"],\"yaxis\":\"y\"},{\"alignmentgroup\":\"True\",\"base\":[\"2021-10-21T18:00:00\"],\"hovertemplate\":\"Task=T#29 | C | R<br>Start_Date=%{base}<br>End_Date=%{x}<br>Machine=%{y}<extra></extra>\",\"legendgroup\":\"T#29 | C | R\",\"marker\":{\"color\":\"#00cc96\"},\"name\":\"T#29 | C | R\",\"offsetgroup\":\"T#29 | C | R\",\"orientation\":\"h\",\"showlegend\":true,\"textposition\":\"auto\",\"type\":\"bar\",\"x\":[32400000.0],\"xaxis\":\"x\",\"y\":[\"M12\"],\"yaxis\":\"y\"},{\"alignmentgroup\":\"True\",\"base\":[\"2021-10-22T03:00:00\"],\"hovertemplate\":\"Task=T#8 | C | PR<br>Start_Date=%{base}<br>End_Date=%{x}<br>Machine=%{y}<extra></extra>\",\"legendgroup\":\"T#8 | C | PR\",\"marker\":{\"color\":\"#ab63fa\"},\"name\":\"T#8 | C | PR\",\"offsetgroup\":\"T#8 | C | PR\",\"orientation\":\"h\",\"showlegend\":true,\"textposition\":\"auto\",\"type\":\"bar\",\"x\":[21600000.0],\"xaxis\":\"x\",\"y\":[\"M12\"],\"yaxis\":\"y\"},{\"alignmentgroup\":\"True\",\"base\":[\"2021-10-22T09:00:00\"],\"hovertemplate\":\"Task=T#21 | C | PU<br>Start_Date=%{base}<br>End_Date=%{x}<br>Machine=%{y}<extra></extra>\",\"legendgroup\":\"T#21 | C | PU\",\"marker\":{\"color\":\"#FFA15A\"},\"name\":\"T#21 | C | PU\",\"offsetgroup\":\"T#21 | C | PU\",\"orientation\":\"h\",\"showlegend\":true,\"textposition\":\"auto\",\"type\":\"bar\",\"x\":[28800000.0],\"xaxis\":\"x\",\"y\":[\"M12\"],\"yaxis\":\"y\"},{\"alignmentgroup\":\"True\",\"base\":[\"2021-10-21T00:00:00\"],\"hovertemplate\":\"Task=T#38 | E | SG<br>Start_Date=%{base}<br>End_Date=%{x}<br>Machine=%{y}<extra></extra>\",\"legendgroup\":\"T#38 | E | SG\",\"marker\":{\"color\":\"#19d3f3\"},\"name\":\"T#38 | E | SG\",\"offsetgroup\":\"T#38 | E | SG\",\"orientation\":\"h\",\"showlegend\":true,\"textposition\":\"auto\",\"type\":\"bar\",\"x\":[25200000.0],\"xaxis\":\"x\",\"y\":[\"M15\"],\"yaxis\":\"y\"},{\"alignmentgroup\":\"True\",\"base\":[\"2021-10-22T14:00:00\"],\"hovertemplate\":\"Task=T#46 | B | FG<br>Start_Date=%{base}<br>End_Date=%{x}<br>Machine=%{y}<extra></extra>\",\"legendgroup\":\"T#46 | B | FG\",\"marker\":{\"color\":\"#FF6692\"},\"name\":\"T#46 | B | FG\",\"offsetgroup\":\"T#46 | B | FG\",\"orientation\":\"h\",\"showlegend\":true,\"textposition\":\"auto\",\"type\":\"bar\",\"x\":[32400000.0],\"xaxis\":\"x\",\"y\":[\"M11\"],\"yaxis\":\"y\"},{\"alignmentgroup\":\"True\",\"base\":[\"2021-10-22T23:00:00\"],\"hovertemplate\":\"Task=T#44 | B | R<br>Start_Date=%{base}<br>End_Date=%{x}<br>Machine=%{y}<extra></extra>\",\"legendgroup\":\"T#44 | B | R\",\"marker\":{\"color\":\"#B6E880\"},\"name\":\"T#44 | B | R\",\"offsetgroup\":\"T#44 | B | R\",\"orientation\":\"h\",\"showlegend\":true,\"textposition\":\"auto\",\"type\":\"bar\",\"x\":[36000000.0],\"xaxis\":\"x\",\"y\":[\"M11\"],\"yaxis\":\"y\"},{\"alignmentgroup\":\"True\",\"base\":[\"2021-10-21T19:00:00\"],\"hovertemplate\":\"Task=T#19 | A | FG<br>Start_Date=%{base}<br>End_Date=%{x}<br>Machine=%{y}<extra></extra>\",\"legendgroup\":\"T#19 | A | FG\",\"marker\":{\"color\":\"#FF97FF\"},\"name\":\"T#19 | A | FG\",\"offsetgroup\":\"T#19 | A | FG\",\"orientation\":\"h\",\"showlegend\":true,\"textposition\":\"auto\",\"type\":\"bar\",\"x\":[25200000.0],\"xaxis\":\"x\",\"y\":[\"M18\"],\"yaxis\":\"y\"},{\"alignmentgroup\":\"True\",\"base\":[\"2021-10-23T09:00:00\"],\"hovertemplate\":\"Task=T#33 | B | PU<br>Start_Date=%{base}<br>End_Date=%{x}<br>Machine=%{y}<extra></extra>\",\"legendgroup\":\"T#33 | B | PU\",\"marker\":{\"color\":\"#FECB52\"},\"name\":\"T#33 | B | PU\",\"offsetgroup\":\"T#33 | B | PU\",\"orientation\":\"h\",\"showlegend\":true,\"textposition\":\"auto\",\"type\":\"bar\",\"x\":[32400000.0],\"xaxis\":\"x\",\"y\":[\"M11\"],\"yaxis\":\"y\"},{\"alignmentgroup\":\"True\",\"base\":[\"2021-10-22T09:00:00\"],\"hovertemplate\":\"Task=T#36 | E | MR<br>Start_Date=%{base}<br>End_Date=%{x}<br>Machine=%{y}<extra></extra>\",\"legendgroup\":\"T#36 | E | MR\",\"marker\":{\"color\":\"#636efa\"},\"name\":\"T#36 | E | MR\",\"offsetgroup\":\"T#36 | E | MR\",\"orientation\":\"h\",\"showlegend\":true,\"textposition\":\"auto\",\"type\":\"bar\",\"x\":[25200000.0],\"xaxis\":\"x\",\"y\":[\"M19\"],\"yaxis\":\"y\"},{\"alignmentgroup\":\"True\",\"base\":[\"2021-10-21T20:00:00\"],\"hovertemplate\":\"Task=T#13 | F | FG<br>Start_Date=%{base}<br>End_Date=%{x}<br>Machine=%{y}<extra></extra>\",\"legendgroup\":\"T#13 | F | FG\",\"marker\":{\"color\":\"#EF553B\"},\"name\":\"T#13 | F | FG\",\"offsetgroup\":\"T#13 | F | FG\",\"orientation\":\"h\",\"showlegend\":true,\"textposition\":\"auto\",\"type\":\"bar\",\"x\":[25200000.0],\"xaxis\":\"x\",\"y\":[\"M16\"],\"yaxis\":\"y\"},{\"alignmentgroup\":\"True\",\"base\":[\"2021-10-22T02:00:00\"],\"hovertemplate\":\"Task=T#1 | A | FG<br>Start_Date=%{base}<br>End_Date=%{x}<br>Machine=%{y}<extra></extra>\",\"legendgroup\":\"T#1 | A | FG\",\"marker\":{\"color\":\"#00cc96\"},\"name\":\"T#1 | A | FG\",\"offsetgroup\":\"T#1 | A | FG\",\"orientation\":\"h\",\"showlegend\":true,\"textposition\":\"auto\",\"type\":\"bar\",\"x\":[7200000.0],\"xaxis\":\"x\",\"y\":[\"M18\"],\"yaxis\":\"y\"},{\"alignmentgroup\":\"True\",\"base\":[\"2021-10-23T18:00:00\"],\"hovertemplate\":\"Task=T#28 | B | SG<br>Start_Date=%{base}<br>End_Date=%{x}<br>Machine=%{y}<extra></extra>\",\"legendgroup\":\"T#28 | B | SG\",\"marker\":{\"color\":\"#ab63fa\"},\"name\":\"T#28 | B | SG\",\"offsetgroup\":\"T#28 | B | SG\",\"orientation\":\"h\",\"showlegend\":true,\"textposition\":\"auto\",\"type\":\"bar\",\"x\":[36000000.0],\"xaxis\":\"x\",\"y\":[\"M11\"],\"yaxis\":\"y\"},{\"alignmentgroup\":\"True\",\"base\":[\"2021-10-22T17:00:00\"],\"hovertemplate\":\"Task=T#3 | C | R<br>Start_Date=%{base}<br>End_Date=%{x}<br>Machine=%{y}<extra></extra>\",\"legendgroup\":\"T#3 | C | R\",\"marker\":{\"color\":\"#FFA15A\"},\"name\":\"T#3 | C | R\",\"offsetgroup\":\"T#3 | C | R\",\"orientation\":\"h\",\"showlegend\":true,\"textposition\":\"auto\",\"type\":\"bar\",\"x\":[32400000.0],\"xaxis\":\"x\",\"y\":[\"M12\"],\"yaxis\":\"y\"},{\"alignmentgroup\":\"True\",\"base\":[\"2021-10-22T03:00:00\"],\"hovertemplate\":\"Task=T#26 | F | FG<br>Start_Date=%{base}<br>End_Date=%{x}<br>Machine=%{y}<extra></extra>\",\"legendgroup\":\"T#26 | F | FG\",\"marker\":{\"color\":\"#19d3f3\"},\"name\":\"T#26 | F | FG\",\"offsetgroup\":\"T#26 | F | FG\",\"orientation\":\"h\",\"showlegend\":true,\"textposition\":\"auto\",\"type\":\"bar\",\"x\":[10800000.0],\"xaxis\":\"x\",\"y\":[\"M16\"],\"yaxis\":\"y\"},{\"alignmentgroup\":\"True\",\"base\":[\"2021-10-23T02:00:00\"],\"hovertemplate\":\"Task=T#17 | C | R<br>Start_Date=%{base}<br>End_Date=%{x}<br>Machine=%{y}<extra></extra>\",\"legendgroup\":\"T#17 | C | R\",\"marker\":{\"color\":\"#FF6692\"},\"name\":\"T#17 | C | R\",\"offsetgroup\":\"T#17 | C | R\",\"orientation\":\"h\",\"showlegend\":true,\"textposition\":\"auto\",\"type\":\"bar\",\"x\":[14400000.0],\"xaxis\":\"x\",\"y\":[\"M12\"],\"yaxis\":\"y\"},{\"alignmentgroup\":\"True\",\"base\":[\"2021-10-22T04:00:00\"],\"hovertemplate\":\"Task=T#32 | A | BK<br>Start_Date=%{base}<br>End_Date=%{x}<br>Machine=%{y}<extra></extra>\",\"legendgroup\":\"T#32 | A | BK\",\"marker\":{\"color\":\"#B6E880\"},\"name\":\"T#32 | A | BK\",\"offsetgroup\":\"T#32 | A | BK\",\"orientation\":\"h\",\"showlegend\":true,\"textposition\":\"auto\",\"type\":\"bar\",\"x\":[25200000.0],\"xaxis\":\"x\",\"y\":[\"M18\"],\"yaxis\":\"y\"},{\"alignmentgroup\":\"True\",\"base\":[\"2021-10-21T08:00:00\"],\"hovertemplate\":\"Task=T#43 | C | SG<br>Start_Date=%{base}<br>End_Date=%{x}<br>Machine=%{y}<extra></extra>\",\"legendgroup\":\"T#43 | C | SG\",\"marker\":{\"color\":\"#FF97FF\"},\"name\":\"T#43 | C | SG\",\"offsetgroup\":\"T#43 | C | SG\",\"orientation\":\"h\",\"showlegend\":true,\"textposition\":\"auto\",\"type\":\"bar\",\"x\":[14400000.0],\"xaxis\":\"x\",\"y\":[\"M10\"],\"yaxis\":\"y\"},{\"alignmentgroup\":\"True\",\"base\":[\"2021-10-22T06:00:00\"],\"hovertemplate\":\"Task=T#11 | F | FG<br>Start_Date=%{base}<br>End_Date=%{x}<br>Machine=%{y}<extra></extra>\",\"legendgroup\":\"T#11 | F | FG\",\"marker\":{\"color\":\"#FECB52\"},\"name\":\"T#11 | F | FG\",\"offsetgroup\":\"T#11 | F | FG\",\"orientation\":\"h\",\"showlegend\":true,\"textposition\":\"auto\",\"type\":\"bar\",\"x\":[21600000.0],\"xaxis\":\"x\",\"y\":[\"M16\"],\"yaxis\":\"y\"},{\"alignmentgroup\":\"True\",\"base\":[\"2021-10-22T11:00:00\"],\"hovertemplate\":\"Task=T#40 | A | B<br>Start_Date=%{base}<br>End_Date=%{x}<br>Machine=%{y}<extra></extra>\",\"legendgroup\":\"T#40 | A | B\",\"marker\":{\"color\":\"#636efa\"},\"name\":\"T#40 | A | B\",\"offsetgroup\":\"T#40 | A | B\",\"orientation\":\"h\",\"showlegend\":true,\"textposition\":\"auto\",\"type\":\"bar\",\"x\":[25200000.0],\"xaxis\":\"x\",\"y\":[\"M18\"],\"yaxis\":\"y\"},{\"alignmentgroup\":\"True\",\"base\":[\"2021-10-23T06:00:00\"],\"hovertemplate\":\"Task=T#42 | C | O/G<br>Start_Date=%{base}<br>End_Date=%{x}<br>Machine=%{y}<extra></extra>\",\"legendgroup\":\"T#42 | C | O/G\",\"marker\":{\"color\":\"#EF553B\"},\"name\":\"T#42 | C | O/G\",\"offsetgroup\":\"T#42 | C | O/G\",\"orientation\":\"h\",\"showlegend\":true,\"textposition\":\"auto\",\"type\":\"bar\",\"x\":[32400000.0],\"xaxis\":\"x\",\"y\":[\"M12\"],\"yaxis\":\"y\"},{\"alignmentgroup\":\"True\",\"base\":[\"2021-10-24T04:00:00\"],\"hovertemplate\":\"Task=T#18 | B | B<br>Start_Date=%{base}<br>End_Date=%{x}<br>Machine=%{y}<extra></extra>\",\"legendgroup\":\"T#18 | B | B\",\"marker\":{\"color\":\"#00cc96\"},\"name\":\"T#18 | B | B\",\"offsetgroup\":\"T#18 | B | B\",\"orientation\":\"h\",\"showlegend\":true,\"textposition\":\"auto\",\"type\":\"bar\",\"x\":[36000000.0],\"xaxis\":\"x\",\"y\":[\"M11\"],\"yaxis\":\"y\"},{\"alignmentgroup\":\"True\",\"base\":[\"2021-10-24T14:00:00\"],\"hovertemplate\":\"Task=T#15 | B | O/G<br>Start_Date=%{base}<br>End_Date=%{x}<br>Machine=%{y}<extra></extra>\",\"legendgroup\":\"T#15 | B | O/G\",\"marker\":{\"color\":\"#ab63fa\"},\"name\":\"T#15 | B | O/G\",\"offsetgroup\":\"T#15 | B | O/G\",\"orientation\":\"h\",\"showlegend\":true,\"textposition\":\"auto\",\"type\":\"bar\",\"x\":[36000000.0],\"xaxis\":\"x\",\"y\":[\"M11\"],\"yaxis\":\"y\"},{\"alignmentgroup\":\"True\",\"base\":[\"2021-10-21T09:00:00\"],\"hovertemplate\":\"Task=T#22 | D | PR<br>Start_Date=%{base}<br>End_Date=%{x}<br>Machine=%{y}<extra></extra>\",\"legendgroup\":\"T#22 | D | PR\",\"marker\":{\"color\":\"#FFA15A\"},\"name\":\"T#22 | D | PR\",\"offsetgroup\":\"T#22 | D | PR\",\"orientation\":\"h\",\"showlegend\":true,\"textposition\":\"auto\",\"type\":\"bar\",\"x\":[32400000.0],\"xaxis\":\"x\",\"y\":[\"M20\"],\"yaxis\":\"y\"},{\"alignmentgroup\":\"True\",\"base\":[\"2021-10-25T00:00:00\"],\"hovertemplate\":\"Task=T#7 | B | PU<br>Start_Date=%{base}<br>End_Date=%{x}<br>Machine=%{y}<extra></extra>\",\"legendgroup\":\"T#7 | B | PU\",\"marker\":{\"color\":\"#19d3f3\"},\"name\":\"T#7 | B | PU\",\"offsetgroup\":\"T#7 | B | PU\",\"orientation\":\"h\",\"showlegend\":true,\"textposition\":\"auto\",\"type\":\"bar\",\"x\":[25200000.0],\"xaxis\":\"x\",\"y\":[\"M11\"],\"yaxis\":\"y\"},{\"alignmentgroup\":\"True\",\"base\":[\"2021-10-22T18:00:00\"],\"hovertemplate\":\"Task=T#14 | A | SG<br>Start_Date=%{base}<br>End_Date=%{x}<br>Machine=%{y}<extra></extra>\",\"legendgroup\":\"T#14 | A | SG\",\"marker\":{\"color\":\"#FF6692\"},\"name\":\"T#14 | A | SG\",\"offsetgroup\":\"T#14 | A | SG\",\"orientation\":\"h\",\"showlegend\":true,\"textposition\":\"auto\",\"type\":\"bar\",\"x\":[25200000.0],\"xaxis\":\"x\",\"y\":[\"M18\"],\"yaxis\":\"y\"},{\"alignmentgroup\":\"True\",\"base\":[\"2021-10-22T12:00:00\"],\"hovertemplate\":\"Task=T#39 | F | R<br>Start_Date=%{base}<br>End_Date=%{x}<br>Machine=%{y}<extra></extra>\",\"legendgroup\":\"T#39 | F | R\",\"marker\":{\"color\":\"#B6E880\"},\"name\":\"T#39 | F | R\",\"offsetgroup\":\"T#39 | F | R\",\"orientation\":\"h\",\"showlegend\":true,\"textposition\":\"auto\",\"type\":\"bar\",\"x\":[25200000.0],\"xaxis\":\"x\",\"y\":[\"M16\"],\"yaxis\":\"y\"},{\"alignmentgroup\":\"True\",\"base\":[\"2021-10-23T15:00:00\"],\"hovertemplate\":\"Task=T#47 | C | BK<br>Start_Date=%{base}<br>End_Date=%{x}<br>Machine=%{y}<extra></extra>\",\"legendgroup\":\"T#47 | C | BK\",\"marker\":{\"color\":\"#FF97FF\"},\"name\":\"T#47 | C | BK\",\"offsetgroup\":\"T#47 | C | BK\",\"orientation\":\"h\",\"showlegend\":true,\"textposition\":\"auto\",\"type\":\"bar\",\"x\":[28800000.0],\"xaxis\":\"x\",\"y\":[\"M12\"],\"yaxis\":\"y\"}],                        {\"barmode\":\"overlay\",\"legend\":{\"title\":{\"text\":\"Task\"},\"tracegroupgap\":0},\"margin\":{\"t\":60},\"template\":{\"data\":{\"bar\":[{\"error_x\":{\"color\":\"#2a3f5f\"},\"error_y\":{\"color\":\"#2a3f5f\"},\"marker\":{\"line\":{\"color\":\"#E5ECF6\",\"width\":0.5},\"pattern\":{\"fillmode\":\"overlay\",\"size\":10,\"solidity\":0.2}},\"type\":\"bar\"}],\"barpolar\":[{\"marker\":{\"line\":{\"color\":\"#E5ECF6\",\"width\":0.5},\"pattern\":{\"fillmode\":\"overlay\",\"size\":10,\"solidity\":0.2}},\"type\":\"barpolar\"}],\"carpet\":[{\"aaxis\":{\"endlinecolor\":\"#2a3f5f\",\"gridcolor\":\"white\",\"linecolor\":\"white\",\"minorgridcolor\":\"white\",\"startlinecolor\":\"#2a3f5f\"},\"baxis\":{\"endlinecolor\":\"#2a3f5f\",\"gridcolor\":\"white\",\"linecolor\":\"white\",\"minorgridcolor\":\"white\",\"startlinecolor\":\"#2a3f5f\"},\"type\":\"carpet\"}],\"choropleth\":[{\"colorbar\":{\"outlinewidth\":0,\"ticks\":\"\"},\"type\":\"choropleth\"}],\"contour\":[{\"colorbar\":{\"outlinewidth\":0,\"ticks\":\"\"},\"colorscale\":[[0.0,\"#0d0887\"],[0.1111111111111111,\"#46039f\"],[0.2222222222222222,\"#7201a8\"],[0.3333333333333333,\"#9c179e\"],[0.4444444444444444,\"#bd3786\"],[0.5555555555555556,\"#d8576b\"],[0.6666666666666666,\"#ed7953\"],[0.7777777777777778,\"#fb9f3a\"],[0.8888888888888888,\"#fdca26\"],[1.0,\"#f0f921\"]],\"type\":\"contour\"}],\"contourcarpet\":[{\"colorbar\":{\"outlinewidth\":0,\"ticks\":\"\"},\"type\":\"contourcarpet\"}],\"heatmap\":[{\"colorbar\":{\"outlinewidth\":0,\"ticks\":\"\"},\"colorscale\":[[0.0,\"#0d0887\"],[0.1111111111111111,\"#46039f\"],[0.2222222222222222,\"#7201a8\"],[0.3333333333333333,\"#9c179e\"],[0.4444444444444444,\"#bd3786\"],[0.5555555555555556,\"#d8576b\"],[0.6666666666666666,\"#ed7953\"],[0.7777777777777778,\"#fb9f3a\"],[0.8888888888888888,\"#fdca26\"],[1.0,\"#f0f921\"]],\"type\":\"heatmap\"}],\"heatmapgl\":[{\"colorbar\":{\"outlinewidth\":0,\"ticks\":\"\"},\"colorscale\":[[0.0,\"#0d0887\"],[0.1111111111111111,\"#46039f\"],[0.2222222222222222,\"#7201a8\"],[0.3333333333333333,\"#9c179e\"],[0.4444444444444444,\"#bd3786\"],[0.5555555555555556,\"#d8576b\"],[0.6666666666666666,\"#ed7953\"],[0.7777777777777778,\"#fb9f3a\"],[0.8888888888888888,\"#fdca26\"],[1.0,\"#f0f921\"]],\"type\":\"heatmapgl\"}],\"histogram\":[{\"marker\":{\"pattern\":{\"fillmode\":\"overlay\",\"size\":10,\"solidity\":0.2}},\"type\":\"histogram\"}],\"histogram2d\":[{\"colorbar\":{\"outlinewidth\":0,\"ticks\":\"\"},\"colorscale\":[[0.0,\"#0d0887\"],[0.1111111111111111,\"#46039f\"],[0.2222222222222222,\"#7201a8\"],[0.3333333333333333,\"#9c179e\"],[0.4444444444444444,\"#bd3786\"],[0.5555555555555556,\"#d8576b\"],[0.6666666666666666,\"#ed7953\"],[0.7777777777777778,\"#fb9f3a\"],[0.8888888888888888,\"#fdca26\"],[1.0,\"#f0f921\"]],\"type\":\"histogram2d\"}],\"histogram2dcontour\":[{\"colorbar\":{\"outlinewidth\":0,\"ticks\":\"\"},\"colorscale\":[[0.0,\"#0d0887\"],[0.1111111111111111,\"#46039f\"],[0.2222222222222222,\"#7201a8\"],[0.3333333333333333,\"#9c179e\"],[0.4444444444444444,\"#bd3786\"],[0.5555555555555556,\"#d8576b\"],[0.6666666666666666,\"#ed7953\"],[0.7777777777777778,\"#fb9f3a\"],[0.8888888888888888,\"#fdca26\"],[1.0,\"#f0f921\"]],\"type\":\"histogram2dcontour\"}],\"mesh3d\":[{\"colorbar\":{\"outlinewidth\":0,\"ticks\":\"\"},\"type\":\"mesh3d\"}],\"parcoords\":[{\"line\":{\"colorbar\":{\"outlinewidth\":0,\"ticks\":\"\"}},\"type\":\"parcoords\"}],\"pie\":[{\"automargin\":true,\"type\":\"pie\"}],\"scatter\":[{\"marker\":{\"colorbar\":{\"outlinewidth\":0,\"ticks\":\"\"}},\"type\":\"scatter\"}],\"scatter3d\":[{\"line\":{\"colorbar\":{\"outlinewidth\":0,\"ticks\":\"\"}},\"marker\":{\"colorbar\":{\"outlinewidth\":0,\"ticks\":\"\"}},\"type\":\"scatter3d\"}],\"scattercarpet\":[{\"marker\":{\"colorbar\":{\"outlinewidth\":0,\"ticks\":\"\"}},\"type\":\"scattercarpet\"}],\"scattergeo\":[{\"marker\":{\"colorbar\":{\"outlinewidth\":0,\"ticks\":\"\"}},\"type\":\"scattergeo\"}],\"scattergl\":[{\"marker\":{\"colorbar\":{\"outlinewidth\":0,\"ticks\":\"\"}},\"type\":\"scattergl\"}],\"scattermapbox\":[{\"marker\":{\"colorbar\":{\"outlinewidth\":0,\"ticks\":\"\"}},\"type\":\"scattermapbox\"}],\"scatterpolar\":[{\"marker\":{\"colorbar\":{\"outlinewidth\":0,\"ticks\":\"\"}},\"type\":\"scatterpolar\"}],\"scatterpolargl\":[{\"marker\":{\"colorbar\":{\"outlinewidth\":0,\"ticks\":\"\"}},\"type\":\"scatterpolargl\"}],\"scatterternary\":[{\"marker\":{\"colorbar\":{\"outlinewidth\":0,\"ticks\":\"\"}},\"type\":\"scatterternary\"}],\"surface\":[{\"colorbar\":{\"outlinewidth\":0,\"ticks\":\"\"},\"colorscale\":[[0.0,\"#0d0887\"],[0.1111111111111111,\"#46039f\"],[0.2222222222222222,\"#7201a8\"],[0.3333333333333333,\"#9c179e\"],[0.4444444444444444,\"#bd3786\"],[0.5555555555555556,\"#d8576b\"],[0.6666666666666666,\"#ed7953\"],[0.7777777777777778,\"#fb9f3a\"],[0.8888888888888888,\"#fdca26\"],[1.0,\"#f0f921\"]],\"type\":\"surface\"}],\"table\":[{\"cells\":{\"fill\":{\"color\":\"#EBF0F8\"},\"line\":{\"color\":\"white\"}},\"header\":{\"fill\":{\"color\":\"#C8D4E3\"},\"line\":{\"color\":\"white\"}},\"type\":\"table\"}]},\"layout\":{\"annotationdefaults\":{\"arrowcolor\":\"#2a3f5f\",\"arrowhead\":0,\"arrowwidth\":1},\"autotypenumbers\":\"strict\",\"coloraxis\":{\"colorbar\":{\"outlinewidth\":0,\"ticks\":\"\"}},\"colorscale\":{\"diverging\":[[0,\"#8e0152\"],[0.1,\"#c51b7d\"],[0.2,\"#de77ae\"],[0.3,\"#f1b6da\"],[0.4,\"#fde0ef\"],[0.5,\"#f7f7f7\"],[0.6,\"#e6f5d0\"],[0.7,\"#b8e186\"],[0.8,\"#7fbc41\"],[0.9,\"#4d9221\"],[1,\"#276419\"]],\"sequential\":[[0.0,\"#0d0887\"],[0.1111111111111111,\"#46039f\"],[0.2222222222222222,\"#7201a8\"],[0.3333333333333333,\"#9c179e\"],[0.4444444444444444,\"#bd3786\"],[0.5555555555555556,\"#d8576b\"],[0.6666666666666666,\"#ed7953\"],[0.7777777777777778,\"#fb9f3a\"],[0.8888888888888888,\"#fdca26\"],[1.0,\"#f0f921\"]],\"sequentialminus\":[[0.0,\"#0d0887\"],[0.1111111111111111,\"#46039f\"],[0.2222222222222222,\"#7201a8\"],[0.3333333333333333,\"#9c179e\"],[0.4444444444444444,\"#bd3786\"],[0.5555555555555556,\"#d8576b\"],[0.6666666666666666,\"#ed7953\"],[0.7777777777777778,\"#fb9f3a\"],[0.8888888888888888,\"#fdca26\"],[1.0,\"#f0f921\"]]},\"colorway\":[\"#636efa\",\"#EF553B\",\"#00cc96\",\"#ab63fa\",\"#FFA15A\",\"#19d3f3\",\"#FF6692\",\"#B6E880\",\"#FF97FF\",\"#FECB52\"],\"font\":{\"color\":\"#2a3f5f\"},\"geo\":{\"bgcolor\":\"white\",\"lakecolor\":\"white\",\"landcolor\":\"#E5ECF6\",\"showlakes\":true,\"showland\":true,\"subunitcolor\":\"white\"},\"hoverlabel\":{\"align\":\"left\"},\"hovermode\":\"closest\",\"mapbox\":{\"style\":\"light\"},\"paper_bgcolor\":\"white\",\"plot_bgcolor\":\"#E5ECF6\",\"polar\":{\"angularaxis\":{\"gridcolor\":\"white\",\"linecolor\":\"white\",\"ticks\":\"\"},\"bgcolor\":\"#E5ECF6\",\"radialaxis\":{\"gridcolor\":\"white\",\"linecolor\":\"white\",\"ticks\":\"\"}},\"scene\":{\"xaxis\":{\"backgroundcolor\":\"#E5ECF6\",\"gridcolor\":\"white\",\"gridwidth\":2,\"linecolor\":\"white\",\"showbackground\":true,\"ticks\":\"\",\"zerolinecolor\":\"white\"},\"yaxis\":{\"backgroundcolor\":\"#E5ECF6\",\"gridcolor\":\"white\",\"gridwidth\":2,\"linecolor\":\"white\",\"showbackground\":true,\"ticks\":\"\",\"zerolinecolor\":\"white\"},\"zaxis\":{\"backgroundcolor\":\"#E5ECF6\",\"gridcolor\":\"white\",\"gridwidth\":2,\"linecolor\":\"white\",\"showbackground\":true,\"ticks\":\"\",\"zerolinecolor\":\"white\"}},\"shapedefaults\":{\"line\":{\"color\":\"#2a3f5f\"}},\"ternary\":{\"aaxis\":{\"gridcolor\":\"white\",\"linecolor\":\"white\",\"ticks\":\"\"},\"baxis\":{\"gridcolor\":\"white\",\"linecolor\":\"white\",\"ticks\":\"\"},\"bgcolor\":\"#E5ECF6\",\"caxis\":{\"gridcolor\":\"white\",\"linecolor\":\"white\",\"ticks\":\"\"}},\"title\":{\"x\":0.05},\"xaxis\":{\"automargin\":true,\"gridcolor\":\"white\",\"linecolor\":\"white\",\"ticks\":\"\",\"title\":{\"standoff\":15},\"zerolinecolor\":\"white\",\"zerolinewidth\":2},\"yaxis\":{\"automargin\":true,\"gridcolor\":\"white\",\"linecolor\":\"white\",\"ticks\":\"\",\"title\":{\"standoff\":15},\"zerolinecolor\":\"white\",\"zerolinewidth\":2}}},\"xaxis\":{\"anchor\":\"y\",\"domain\":[0.0,1.0],\"rangeslider\":{\"visible\":true},\"type\":\"date\"},\"yaxis\":{\"anchor\":\"x\",\"autorange\":\"reversed\",\"categoryorder\":\"category ascending\",\"domain\":[0.0,1.0],\"title\":{\"text\":\"Machine\"}}},                        {\"responsive\": true}                    ).then(function(){\n",
       "                            \n",
       "var gd = document.getElementById('d43c8c3b-98ea-463d-aead-21273aee7301');\n",
       "var x = new MutationObserver(function (mutations, observer) {{\n",
       "        var display = window.getComputedStyle(gd).display;\n",
       "        if (!display || display === 'none') {{\n",
       "            console.log([gd, 'removed!']);\n",
       "            Plotly.purge(gd);\n",
       "            observer.disconnect();\n",
       "        }}\n",
       "}});\n",
       "\n",
       "// Listen for the removal of the full notebook cells\n",
       "var notebookContainer = gd.closest('#notebook-container');\n",
       "if (notebookContainer) {{\n",
       "    x.observe(notebookContainer, {childList: true});\n",
       "}}\n",
       "\n",
       "// Listen for the clearing of the current output cell\n",
       "var outputEl = gd.closest('.output');\n",
       "if (outputEl) {{\n",
       "    x.observe(outputEl, {childList: true});\n",
       "}}\n",
       "\n",
       "                        })                };                });            </script>        </div>"
      ]
     },
     "metadata": {},
     "output_type": "display_data"
    },
    {
     "name": "stdout",
     "output_type": "stream",
     "text": [
      "After Scheduling:\n",
      "....................................................................\n",
      "    Machine Job Product Color    Qty          Start_Date Duration  \\\n",
      "0      M18  27       A   O/G  15000 2021-10-21 00:00:00        6   \n",
      "1      M14  35       D    MG  20000 2021-10-21 00:00:00        8   \n",
      "2      M11   2       B    SG  20000 2021-10-21 00:00:00       10   \n",
      "3      M12  34       C    PR  15000 2021-10-21 00:00:00        8   \n",
      "4      M11  41       B    FG  20000 2021-10-21 10:00:00       10   \n",
      "5      M12  30       C     B  15000 2021-10-21 08:00:00        8   \n",
      "6      M10  16       C    SG  20000 2021-10-21 00:00:00        8   \n",
      "7      M20  48       D    PU  20000 2021-10-21 00:00:00        9   \n",
      "8      M14   9       D    MG  15000 2021-10-21 08:00:00        3   \n",
      "9      M19  10       E    MR  20000 2021-10-21 00:00:00        8   \n",
      "10     M11   5       B    FG  10000 2021-10-21 20:00:00        3   \n",
      "11     M19  23       E    MG  15000 2021-10-21 08:00:00        7   \n",
      "12     M19  12       E    FG  20000 2021-10-21 15:00:00        9   \n",
      "13     M16  37       F   O/G  20000 2021-10-21 00:00:00       10   \n",
      "14     M18  45       A     B  15000 2021-10-21 06:00:00        7   \n",
      "15     M19  25       E    FG  10000 2021-10-22 00:00:00        2   \n",
      "16     M19  49       E    PR  15000 2021-10-22 02:00:00        7   \n",
      "17     M16  24       F    MR  20000 2021-10-21 10:00:00       10   \n",
      "18     M18   6       A    BK  10000 2021-10-21 13:00:00        6   \n",
      "19     M11  31       B    FG  20000 2021-10-21 23:00:00        6   \n",
      "20     M12   4       C     B  10000 2021-10-21 16:00:00        2   \n",
      "21     M11  20       B    BK  15000 2021-10-22 05:00:00        9   \n",
      "22     M12  29       C     R  20000 2021-10-21 18:00:00        9   \n",
      "23     M12   8       C    PR  10000 2021-10-22 03:00:00        6   \n",
      "24     M12  21       C    PU  15000 2021-10-22 09:00:00        8   \n",
      "25     M15  38       E    SG  10000 2021-10-21 00:00:00        7   \n",
      "26     M11  46       B    FG  15000 2021-10-22 14:00:00        9   \n",
      "27     M11  44       B     R  20000 2021-10-22 23:00:00       10   \n",
      "28     M18  19       A    FG  15000 2021-10-21 19:00:00        7   \n",
      "29     M11  33       B    PU  15000 2021-10-23 09:00:00        9   \n",
      "30     M19  36       E    MR  15000 2021-10-22 09:00:00        7   \n",
      "31     M16  13       F    FG  10000 2021-10-21 20:00:00        7   \n",
      "32     M18   1       A    FG  10000 2021-10-22 02:00:00        2   \n",
      "33     M11  28       B    SG  20000 2021-10-23 18:00:00       10   \n",
      "34     M12   3       C     R  20000 2021-10-22 17:00:00        9   \n",
      "35     M16  26       F    FG  10000 2021-10-22 03:00:00        3   \n",
      "36     M12  17       C     R  15000 2021-10-23 02:00:00        4   \n",
      "37     M18  32       A    BK  15000 2021-10-22 04:00:00        7   \n",
      "38     M10  43       C    SG  15000 2021-10-21 08:00:00        4   \n",
      "39     M16  11       F    FG  20000 2021-10-22 06:00:00        6   \n",
      "40     M18  40       A     B  15000 2021-10-22 11:00:00        7   \n",
      "41     M12  42       C   O/G  20000 2021-10-23 06:00:00        9   \n",
      "42     M11  18       B     B  20000 2021-10-24 04:00:00       10   \n",
      "43     M11  15       B   O/G  20000 2021-10-24 14:00:00       10   \n",
      "44     M20  22       D    PR  20000 2021-10-21 09:00:00        9   \n",
      "45     M11   7       B    PU  10000 2021-10-25 00:00:00        7   \n",
      "46     M18  14       A    SG  15000 2021-10-22 18:00:00        7   \n",
      "47     M16  39       F     R  10000 2021-10-22 12:00:00        7   \n",
      "48     M12  47       C    BK  15000 2021-10-23 15:00:00        8   \n",
      "\n",
      "              End_Date Production_Late Days_Late  \n",
      "0  2021-10-21 06:00:00            True        11  \n",
      "1  2021-10-21 08:00:00            True         9  \n",
      "2  2021-10-21 10:00:00            True         7  \n",
      "3  2021-10-21 08:00:00            True         7  \n",
      "4  2021-10-21 20:00:00            True         2  \n",
      "5  2021-10-21 16:00:00            True         2  \n",
      "6  2021-10-21 08:00:00            True         1  \n",
      "7  2021-10-21 09:00:00            True         1  \n",
      "8  2021-10-21 11:00:00            True         0  \n",
      "9  2021-10-21 08:00:00           False         0  \n",
      "10 2021-10-21 23:00:00           False         0  \n",
      "11 2021-10-21 15:00:00           False         0  \n",
      "12 2021-10-22 00:00:00           False         0  \n",
      "13 2021-10-21 10:00:00           False         0  \n",
      "14 2021-10-21 13:00:00           False         0  \n",
      "15 2021-10-22 02:00:00           False         0  \n",
      "16 2021-10-22 09:00:00           False         0  \n",
      "17 2021-10-21 20:00:00           False         0  \n",
      "18 2021-10-21 19:00:00           False         0  \n",
      "19 2021-10-22 05:00:00           False         0  \n",
      "20 2021-10-21 18:00:00           False         0  \n",
      "21 2021-10-22 14:00:00           False         0  \n",
      "22 2021-10-22 03:00:00           False         0  \n",
      "23 2021-10-22 09:00:00           False         0  \n",
      "24 2021-10-22 17:00:00           False         0  \n",
      "25 2021-10-21 07:00:00           False         0  \n",
      "26 2021-10-22 23:00:00           False         0  \n",
      "27 2021-10-23 09:00:00           False         0  \n",
      "28 2021-10-22 02:00:00           False         0  \n",
      "29 2021-10-23 18:00:00           False         0  \n",
      "30 2021-10-22 16:00:00           False         0  \n",
      "31 2021-10-22 03:00:00           False         0  \n",
      "32 2021-10-22 04:00:00           False         0  \n",
      "33 2021-10-24 04:00:00           False         0  \n",
      "34 2021-10-23 02:00:00           False         0  \n",
      "35 2021-10-22 06:00:00           False         0  \n",
      "36 2021-10-23 06:00:00           False         0  \n",
      "37 2021-10-22 11:00:00           False         0  \n",
      "38 2021-10-21 12:00:00           False         0  \n",
      "39 2021-10-22 12:00:00           False         0  \n",
      "40 2021-10-22 18:00:00           False         0  \n",
      "41 2021-10-23 15:00:00           False         0  \n",
      "42 2021-10-24 14:00:00           False         0  \n",
      "43 2021-10-25 00:00:00           False         0  \n",
      "44 2021-10-21 18:00:00           False         0  \n",
      "45 2021-10-25 07:00:00           False         0  \n",
      "46 2021-10-23 01:00:00           False         0  \n",
      "47 2021-10-22 19:00:00           False         0  \n",
      "48 2021-10-23 23:00:00           False         0  \n",
      ".......................................\n",
      "            Done Sending\n",
      ".......................................\n"
     ]
    }
   ],
   "source": [
    "# importing the libraries\n",
    "import pandas as pd\n",
    "import socket\n",
    "\n",
    "\n",
    "# importing the module containing Machine Learning algorithm \n",
    "%run SmartScheduling.ipynb\n",
    "\n",
    "# for .py files\n",
    "# from SmartScheduling import *\n",
    "\n",
    "# variables\n",
    "StartDate = datetime.strptime('2021-10-21', \"%Y-%m-%d\")\n",
    "Delay_Cost_Dollars_Per_Day = 500 #Set to 0 if you do not want to penalize latness.\n",
    "FilePath = r''\n",
    "FileName_and_Ext = 'Dataset.xlsx'\n",
    "\n",
    "# calling the function and storing the output in variables\n",
    "Machine_DF, Jobs_DF, Production_Schedule_DF = Load_and_Prep_Data(FilePath,FileName_and_Ext)\n",
    "\n",
    "# running the scheduler\n",
    "Run_Scheduler()\n",
    "print(\"After Scheduling:\\n....................................................................\\n\", Production_Schedule_DF)\n",
    "\n",
    "# converting the DataFrame into a csv file\n",
    "Production_Schedule_DF.to_csv('Dataset.csv')\n",
    "\n",
    "# defining host and port\n",
    "host = 'local host'        \n",
    "port = 5000\n",
    "\n",
    "# connecting to the server\n",
    "s = socket.socket(socket.AF_INET, socket.SOCK_STREAM)\n",
    "s.connect(('127.0.0.1', port))\n",
    "\n",
    "# s.connect((host, port))\n",
    "\n",
    "# starting the transmission\n",
    "f = open('Dataset.csv', 'rb')\n",
    "l = f.read(409600)\n",
    "while True:\n",
    "#     print (l)    \n",
    "    s.send(l)    \n",
    "    break\n",
    "\n",
    "# closing the file\n",
    "f.close() \n",
    "print(\".......................................\\n            Done Sending\\n.......................................\")\n",
    "\n",
    "# closing the connection\n",
    "s.close()"
   ]
  }
 ],
 "metadata": {
  "kernelspec": {
   "display_name": "Python 3 (ipykernel)",
   "language": "python",
   "name": "python3"
  },
  "language_info": {
   "codemirror_mode": {
    "name": "ipython",
    "version": 3
   },
   "file_extension": ".py",
   "mimetype": "text/x-python",
   "name": "python",
   "nbconvert_exporter": "python",
   "pygments_lexer": "ipython3",
   "version": "3.8.12"
  }
 },
 "nbformat": 4,
 "nbformat_minor": 5
}
